{
  "cells": [
    {
      "cell_type": "markdown",
      "id": "e93083f6",
      "metadata": {
        "id": "e93083f6"
      },
      "source": [
        "## Подключение к базе"
      ]
    },
    {
      "cell_type": "markdown",
      "id": "d507c2da",
      "metadata": {
        "id": "d507c2da"
      },
      "source": [
        "Импортируем библиотеки"
      ]
    },
    {
      "cell_type": "code",
      "execution_count": null,
      "id": "fc7efa54",
      "metadata": {
        "id": "fc7efa54"
      },
      "outputs": [],
      "source": [
        "import os\n",
        "import pandas as pd\n",
        "import numpy as np\n",
        "\n",
        "from sqlalchemy import create_engine"
      ]
    },
    {
      "cell_type": "markdown",
      "id": "033d97e2",
      "metadata": {
        "id": "033d97e2"
      },
      "source": [
        "Находим базу данных"
      ]
    },
    {
      "cell_type": "code",
      "execution_count": null,
      "id": "0017f8e7",
      "metadata": {
        "id": "0017f8e7"
      },
      "outputs": [],
      "source": [
        "path_to_db_local = 'telecomm_csi.db'\n",
        "path_to_db_platform = '/datasets/telecomm_csi.db'\n",
        "path_to_db = None\n",
        "\n",
        "if os.path.exists(path_to_db_local):\n",
        "    path_to_db = path_to_db_local\n",
        "elif os.path.exists(path_to_db_platform):\n",
        "    path_to_db = path_to_db_platform\n",
        "else:\n",
        "    raise Exception('Файл с базой данных SQLite не найден!')\n",
        "\n",
        "if path_to_db:\n",
        "    engine = create_engine(f'sqlite:///{path_to_db}', echo=False)"
      ]
    },
    {
      "cell_type": "markdown",
      "id": "909a72b8",
      "metadata": {
        "id": "909a72b8"
      },
      "source": [
        "Таким образом, можно открыть базу данных как и онлайн, так и с локального хранилища"
      ]
    },
    {
      "cell_type": "markdown",
      "id": "749a8508",
      "metadata": {
        "id": "749a8508"
      },
      "source": [
        "## Выгрузка данных"
      ]
    },
    {
      "cell_type": "markdown",
      "id": "3c7f4306",
      "metadata": {
        "id": "3c7f4306"
      },
      "source": [
        "Осуществляем запрос"
      ]
    },
    {
      "cell_type": "code",
      "execution_count": null,
      "id": "84ebad43",
      "metadata": {
        "id": "84ebad43"
      },
      "outputs": [],
      "source": [
        "query = \"\"\"\n",
        "select user_id,\n",
        "lt_day,\n",
        "(case\n",
        "    when lt_day < 365 then 'True'\n",
        "    else 'False'\n",
        "    END) is_new,\n",
        "age,\n",
        "(case\n",
        "    when gender_segment == 1 then 'Женщина'\n",
        "    when gender_segment == 0 then 'Мужчина'\n",
        "    else \"неизвестно\"\n",
        "    end) gender_segment,\n",
        "os_name,\n",
        "cpe_type_name,\n",
        "country,\n",
        "city,\n",
        "age_segment.title age_segment,\n",
        "traffic_segment.title traffic_segment,\n",
        "lifetime_segment.title lifetime_segment,\n",
        "nps_score,\n",
        "(case\n",
        "    when nps_score between 9 and 10 then 'Сторонники'\n",
        "    when nps_score between 7 and 8 then \"Нейтралы\"\n",
        "    else \"Критики\"\n",
        "    end) nps_group\n",
        "from user\n",
        "inner join location on user.location_id=location.location_id\n",
        "inner join age_segment on user.age_gr_id=age_segment.age_gr_id\n",
        "inner join traffic_segment on user.tr_gr_id=traffic_segment.tr_gr_id\n",
        "inner join lifetime_segment on user.lt_gr_id=lifetime_segment.lt_gr_id\n",
        "\"\"\""
      ]
    },
    {
      "cell_type": "markdown",
      "id": "d8ac0da2",
      "metadata": {
        "id": "d8ac0da2"
      },
      "source": [
        "Создаем датафрейм"
      ]
    },
    {
      "cell_type": "code",
      "execution_count": null,
      "id": "3965faf2",
      "metadata": {
        "id": "3965faf2",
        "outputId": "c3458373-648e-4088-a8ed-3ac0c3615994"
      },
      "outputs": [
        {
          "data": {
            "text/html": [
              "<div>\n",
              "<style scoped>\n",
              "    .dataframe tbody tr th:only-of-type {\n",
              "        vertical-align: middle;\n",
              "    }\n",
              "\n",
              "    .dataframe tbody tr th {\n",
              "        vertical-align: top;\n",
              "    }\n",
              "\n",
              "    .dataframe thead th {\n",
              "        text-align: right;\n",
              "    }\n",
              "</style>\n",
              "<table border=\"1\" class=\"dataframe\">\n",
              "  <thead>\n",
              "    <tr style=\"text-align: right;\">\n",
              "      <th></th>\n",
              "      <th>user_id</th>\n",
              "      <th>lt_day</th>\n",
              "      <th>is_new</th>\n",
              "      <th>age</th>\n",
              "      <th>gender_segment</th>\n",
              "      <th>os_name</th>\n",
              "      <th>cpe_type_name</th>\n",
              "      <th>country</th>\n",
              "      <th>city</th>\n",
              "      <th>age_segment</th>\n",
              "      <th>traffic_segment</th>\n",
              "      <th>lifetime_segment</th>\n",
              "      <th>nps_score</th>\n",
              "      <th>nps_group</th>\n",
              "    </tr>\n",
              "  </thead>\n",
              "  <tbody>\n",
              "    <tr>\n",
              "      <th>0</th>\n",
              "      <td>A001A2</td>\n",
              "      <td>2320</td>\n",
              "      <td>False</td>\n",
              "      <td>45.0</td>\n",
              "      <td>Женщина</td>\n",
              "      <td>ANDROID</td>\n",
              "      <td>SMARTPHONE</td>\n",
              "      <td>Россия</td>\n",
              "      <td>Уфа</td>\n",
              "      <td>05 45-54</td>\n",
              "      <td>04 1-5</td>\n",
              "      <td>08 36+</td>\n",
              "      <td>10</td>\n",
              "      <td>Сторонники</td>\n",
              "    </tr>\n",
              "    <tr>\n",
              "      <th>1</th>\n",
              "      <td>A001WF</td>\n",
              "      <td>2344</td>\n",
              "      <td>False</td>\n",
              "      <td>53.0</td>\n",
              "      <td>Мужчина</td>\n",
              "      <td>ANDROID</td>\n",
              "      <td>SMARTPHONE</td>\n",
              "      <td>Россия</td>\n",
              "      <td>Киров</td>\n",
              "      <td>05 45-54</td>\n",
              "      <td>04 1-5</td>\n",
              "      <td>08 36+</td>\n",
              "      <td>10</td>\n",
              "      <td>Сторонники</td>\n",
              "    </tr>\n",
              "    <tr>\n",
              "      <th>2</th>\n",
              "      <td>A003Q7</td>\n",
              "      <td>467</td>\n",
              "      <td>False</td>\n",
              "      <td>57.0</td>\n",
              "      <td>Мужчина</td>\n",
              "      <td>ANDROID</td>\n",
              "      <td>SMARTPHONE</td>\n",
              "      <td>Россия</td>\n",
              "      <td>Москва</td>\n",
              "      <td>06 55-64</td>\n",
              "      <td>08 20-25</td>\n",
              "      <td>06 13-24</td>\n",
              "      <td>10</td>\n",
              "      <td>Сторонники</td>\n",
              "    </tr>\n",
              "    <tr>\n",
              "      <th>3</th>\n",
              "      <td>A004TB</td>\n",
              "      <td>4190</td>\n",
              "      <td>False</td>\n",
              "      <td>44.0</td>\n",
              "      <td>Женщина</td>\n",
              "      <td>IOS</td>\n",
              "      <td>SMARTPHONE</td>\n",
              "      <td>Россия</td>\n",
              "      <td>РостовнаДону</td>\n",
              "      <td>04 35-44</td>\n",
              "      <td>03 0.1-1</td>\n",
              "      <td>08 36+</td>\n",
              "      <td>10</td>\n",
              "      <td>Сторонники</td>\n",
              "    </tr>\n",
              "    <tr>\n",
              "      <th>4</th>\n",
              "      <td>A004XT</td>\n",
              "      <td>1163</td>\n",
              "      <td>False</td>\n",
              "      <td>24.0</td>\n",
              "      <td>Мужчина</td>\n",
              "      <td>ANDROID</td>\n",
              "      <td>SMARTPHONE</td>\n",
              "      <td>Россия</td>\n",
              "      <td>Рязань</td>\n",
              "      <td>02 16-24</td>\n",
              "      <td>05 5-10</td>\n",
              "      <td>08 36+</td>\n",
              "      <td>10</td>\n",
              "      <td>Сторонники</td>\n",
              "    </tr>\n",
              "    <tr>\n",
              "      <th>5</th>\n",
              "      <td>A005O0</td>\n",
              "      <td>5501</td>\n",
              "      <td>False</td>\n",
              "      <td>42.0</td>\n",
              "      <td>Женщина</td>\n",
              "      <td>ANDROID</td>\n",
              "      <td>SMARTPHONE</td>\n",
              "      <td>Россия</td>\n",
              "      <td>Омск</td>\n",
              "      <td>04 35-44</td>\n",
              "      <td>05 5-10</td>\n",
              "      <td>08 36+</td>\n",
              "      <td>6</td>\n",
              "      <td>Критики</td>\n",
              "    </tr>\n",
              "    <tr>\n",
              "      <th>6</th>\n",
              "      <td>A0061R</td>\n",
              "      <td>1236</td>\n",
              "      <td>False</td>\n",
              "      <td>45.0</td>\n",
              "      <td>Мужчина</td>\n",
              "      <td>ANDROID</td>\n",
              "      <td>SMARTPHONE</td>\n",
              "      <td>Россия</td>\n",
              "      <td>Уфа</td>\n",
              "      <td>05 45-54</td>\n",
              "      <td>06 10-15</td>\n",
              "      <td>08 36+</td>\n",
              "      <td>10</td>\n",
              "      <td>Сторонники</td>\n",
              "    </tr>\n",
              "    <tr>\n",
              "      <th>7</th>\n",
              "      <td>A009KS</td>\n",
              "      <td>313</td>\n",
              "      <td>True</td>\n",
              "      <td>35.0</td>\n",
              "      <td>Мужчина</td>\n",
              "      <td>ANDROID</td>\n",
              "      <td>SMARTPHONE</td>\n",
              "      <td>Россия</td>\n",
              "      <td>Москва</td>\n",
              "      <td>04 35-44</td>\n",
              "      <td>13 45-50</td>\n",
              "      <td>05 7-12</td>\n",
              "      <td>10</td>\n",
              "      <td>Сторонники</td>\n",
              "    </tr>\n",
              "    <tr>\n",
              "      <th>8</th>\n",
              "      <td>A00AES</td>\n",
              "      <td>3238</td>\n",
              "      <td>False</td>\n",
              "      <td>36.0</td>\n",
              "      <td>Женщина</td>\n",
              "      <td>ANDROID</td>\n",
              "      <td>SMARTPHONE</td>\n",
              "      <td>Россия</td>\n",
              "      <td>СанктПетербург</td>\n",
              "      <td>04 35-44</td>\n",
              "      <td>04 1-5</td>\n",
              "      <td>08 36+</td>\n",
              "      <td>10</td>\n",
              "      <td>Сторонники</td>\n",
              "    </tr>\n",
              "    <tr>\n",
              "      <th>9</th>\n",
              "      <td>A00F70</td>\n",
              "      <td>4479</td>\n",
              "      <td>False</td>\n",
              "      <td>54.0</td>\n",
              "      <td>Женщина</td>\n",
              "      <td>ANDROID</td>\n",
              "      <td>SMARTPHONE</td>\n",
              "      <td>Россия</td>\n",
              "      <td>Волгоград</td>\n",
              "      <td>05 45-54</td>\n",
              "      <td>07 15-20</td>\n",
              "      <td>08 36+</td>\n",
              "      <td>9</td>\n",
              "      <td>Сторонники</td>\n",
              "    </tr>\n",
              "    <tr>\n",
              "      <th>10</th>\n",
              "      <td>A00HL5</td>\n",
              "      <td>5297</td>\n",
              "      <td>False</td>\n",
              "      <td>39.0</td>\n",
              "      <td>Мужчина</td>\n",
              "      <td>ANDROID</td>\n",
              "      <td>SMARTPHONE</td>\n",
              "      <td>Россия</td>\n",
              "      <td>Тольятти</td>\n",
              "      <td>04 35-44</td>\n",
              "      <td>09 25-30</td>\n",
              "      <td>08 36+</td>\n",
              "      <td>10</td>\n",
              "      <td>Сторонники</td>\n",
              "    </tr>\n",
              "    <tr>\n",
              "      <th>11</th>\n",
              "      <td>A00NDN</td>\n",
              "      <td>1374</td>\n",
              "      <td>False</td>\n",
              "      <td>21.0</td>\n",
              "      <td>Мужчина</td>\n",
              "      <td>ANDROID</td>\n",
              "      <td>SMARTPHONE</td>\n",
              "      <td>Россия</td>\n",
              "      <td>Рязань</td>\n",
              "      <td>02 16-24</td>\n",
              "      <td>06 10-15</td>\n",
              "      <td>08 36+</td>\n",
              "      <td>2</td>\n",
              "      <td>Критики</td>\n",
              "    </tr>\n",
              "    <tr>\n",
              "      <th>12</th>\n",
              "      <td>A00P46</td>\n",
              "      <td>179</td>\n",
              "      <td>True</td>\n",
              "      <td>27.0</td>\n",
              "      <td>Мужчина</td>\n",
              "      <td>ANDROID</td>\n",
              "      <td>SMARTPHONE</td>\n",
              "      <td>Россия</td>\n",
              "      <td>Казань</td>\n",
              "      <td>03 25-34</td>\n",
              "      <td>13 45-50</td>\n",
              "      <td>04 4-6</td>\n",
              "      <td>10</td>\n",
              "      <td>Сторонники</td>\n",
              "    </tr>\n",
              "    <tr>\n",
              "      <th>13</th>\n",
              "      <td>A00SA7</td>\n",
              "      <td>667</td>\n",
              "      <td>False</td>\n",
              "      <td>60.0</td>\n",
              "      <td>Мужчина</td>\n",
              "      <td>ANDROID</td>\n",
              "      <td>TABLET</td>\n",
              "      <td>Россия</td>\n",
              "      <td>Казань</td>\n",
              "      <td>06 55-64</td>\n",
              "      <td>05 5-10</td>\n",
              "      <td>06 13-24</td>\n",
              "      <td>5</td>\n",
              "      <td>Критики</td>\n",
              "    </tr>\n",
              "    <tr>\n",
              "      <th>14</th>\n",
              "      <td>A00U8A</td>\n",
              "      <td>2908</td>\n",
              "      <td>False</td>\n",
              "      <td>44.0</td>\n",
              "      <td>Женщина</td>\n",
              "      <td>ANDROID</td>\n",
              "      <td>SMARTPHONE</td>\n",
              "      <td>Россия</td>\n",
              "      <td>СанктПетербург</td>\n",
              "      <td>04 35-44</td>\n",
              "      <td>05 5-10</td>\n",
              "      <td>08 36+</td>\n",
              "      <td>10</td>\n",
              "      <td>Сторонники</td>\n",
              "    </tr>\n",
              "  </tbody>\n",
              "</table>\n",
              "</div>"
            ],
            "text/plain": [
              "   user_id  lt_day is_new   age gender_segment  os_name cpe_type_name country  \\\n",
              "0   A001A2    2320  False  45.0        Женщина  ANDROID    SMARTPHONE  Россия   \n",
              "1   A001WF    2344  False  53.0        Мужчина  ANDROID    SMARTPHONE  Россия   \n",
              "2   A003Q7     467  False  57.0        Мужчина  ANDROID    SMARTPHONE  Россия   \n",
              "3   A004TB    4190  False  44.0        Женщина      IOS    SMARTPHONE  Россия   \n",
              "4   A004XT    1163  False  24.0        Мужчина  ANDROID    SMARTPHONE  Россия   \n",
              "5   A005O0    5501  False  42.0        Женщина  ANDROID    SMARTPHONE  Россия   \n",
              "6   A0061R    1236  False  45.0        Мужчина  ANDROID    SMARTPHONE  Россия   \n",
              "7   A009KS     313   True  35.0        Мужчина  ANDROID    SMARTPHONE  Россия   \n",
              "8   A00AES    3238  False  36.0        Женщина  ANDROID    SMARTPHONE  Россия   \n",
              "9   A00F70    4479  False  54.0        Женщина  ANDROID    SMARTPHONE  Россия   \n",
              "10  A00HL5    5297  False  39.0        Мужчина  ANDROID    SMARTPHONE  Россия   \n",
              "11  A00NDN    1374  False  21.0        Мужчина  ANDROID    SMARTPHONE  Россия   \n",
              "12  A00P46     179   True  27.0        Мужчина  ANDROID    SMARTPHONE  Россия   \n",
              "13  A00SA7     667  False  60.0        Мужчина  ANDROID        TABLET  Россия   \n",
              "14  A00U8A    2908  False  44.0        Женщина  ANDROID    SMARTPHONE  Россия   \n",
              "\n",
              "              city age_segment traffic_segment lifetime_segment  nps_score  \\\n",
              "0              Уфа    05 45-54          04 1-5           08 36+         10   \n",
              "1            Киров    05 45-54          04 1-5           08 36+         10   \n",
              "2           Москва    06 55-64        08 20-25         06 13-24         10   \n",
              "3     РостовнаДону    04 35-44        03 0.1-1           08 36+         10   \n",
              "4           Рязань    02 16-24         05 5-10           08 36+         10   \n",
              "5             Омск    04 35-44         05 5-10           08 36+          6   \n",
              "6              Уфа    05 45-54        06 10-15           08 36+         10   \n",
              "7           Москва    04 35-44        13 45-50          05 7-12         10   \n",
              "8   СанктПетербург    04 35-44          04 1-5           08 36+         10   \n",
              "9        Волгоград    05 45-54        07 15-20           08 36+          9   \n",
              "10        Тольятти    04 35-44        09 25-30           08 36+         10   \n",
              "11          Рязань    02 16-24        06 10-15           08 36+          2   \n",
              "12          Казань    03 25-34        13 45-50           04 4-6         10   \n",
              "13          Казань    06 55-64         05 5-10         06 13-24          5   \n",
              "14  СанктПетербург    04 35-44         05 5-10           08 36+         10   \n",
              "\n",
              "     nps_group  \n",
              "0   Сторонники  \n",
              "1   Сторонники  \n",
              "2   Сторонники  \n",
              "3   Сторонники  \n",
              "4   Сторонники  \n",
              "5      Критики  \n",
              "6   Сторонники  \n",
              "7   Сторонники  \n",
              "8   Сторонники  \n",
              "9   Сторонники  \n",
              "10  Сторонники  \n",
              "11     Критики  \n",
              "12  Сторонники  \n",
              "13     Критики  \n",
              "14  Сторонники  "
            ]
          },
          "execution_count": 4,
          "metadata": {},
          "output_type": "execute_result"
        }
      ],
      "source": [
        "df = pd.read_sql(query, engine)\n",
        "df.head(15)"
      ]
    },
    {
      "cell_type": "markdown",
      "id": "c2cab2ea",
      "metadata": {
        "id": "c2cab2ea"
      },
      "source": [
        "Проверим данные"
      ]
    },
    {
      "cell_type": "code",
      "execution_count": null,
      "id": "12131da6",
      "metadata": {
        "id": "12131da6",
        "outputId": "20aa93ab-1ed8-4c8c-9915-2f2f9c1965a7"
      },
      "outputs": [
        {
          "name": "stdout",
          "output_type": "stream",
          "text": [
            "<class 'pandas.core.frame.DataFrame'>\n",
            "RangeIndex: 502493 entries, 0 to 502492\n",
            "Data columns (total 14 columns):\n",
            " #   Column            Non-Null Count   Dtype  \n",
            "---  ------            --------------   -----  \n",
            " 0   user_id           502493 non-null  object \n",
            " 1   lt_day            502493 non-null  int64  \n",
            " 2   is_new            502493 non-null  object \n",
            " 3   age               501939 non-null  float64\n",
            " 4   gender_segment    502493 non-null  object \n",
            " 5   os_name           502493 non-null  object \n",
            " 6   cpe_type_name     502493 non-null  object \n",
            " 7   country           502493 non-null  object \n",
            " 8   city              502493 non-null  object \n",
            " 9   age_segment       502493 non-null  object \n",
            " 10  traffic_segment   502493 non-null  object \n",
            " 11  lifetime_segment  502493 non-null  object \n",
            " 12  nps_score         502493 non-null  int64  \n",
            " 13  nps_group         502493 non-null  object \n",
            "dtypes: float64(1), int64(2), object(11)\n",
            "memory usage: 53.7+ MB\n"
          ]
        }
      ],
      "source": [
        "df.info()"
      ]
    },
    {
      "cell_type": "code",
      "execution_count": null,
      "id": "b2e193db",
      "metadata": {
        "id": "b2e193db",
        "outputId": "5c9949ad-bd45-4d11-93e1-e65f716619d6"
      },
      "outputs": [
        {
          "data": {
            "text/html": [
              "<div>\n",
              "<style scoped>\n",
              "    .dataframe tbody tr th:only-of-type {\n",
              "        vertical-align: middle;\n",
              "    }\n",
              "\n",
              "    .dataframe tbody tr th {\n",
              "        vertical-align: top;\n",
              "    }\n",
              "\n",
              "    .dataframe thead th {\n",
              "        text-align: right;\n",
              "    }\n",
              "</style>\n",
              "<table border=\"1\" class=\"dataframe\">\n",
              "  <thead>\n",
              "    <tr style=\"text-align: right;\">\n",
              "      <th></th>\n",
              "      <th>user_id</th>\n",
              "      <th>lt_day</th>\n",
              "      <th>is_new</th>\n",
              "      <th>age</th>\n",
              "      <th>gender_segment</th>\n",
              "      <th>os_name</th>\n",
              "      <th>cpe_type_name</th>\n",
              "      <th>country</th>\n",
              "      <th>city</th>\n",
              "      <th>age_segment</th>\n",
              "      <th>traffic_segment</th>\n",
              "      <th>lifetime_segment</th>\n",
              "      <th>nps_score</th>\n",
              "      <th>nps_group</th>\n",
              "    </tr>\n",
              "  </thead>\n",
              "  <tbody>\n",
              "    <tr>\n",
              "      <th>751</th>\n",
              "      <td>A1E59W</td>\n",
              "      <td>4055</td>\n",
              "      <td>False</td>\n",
              "      <td>NaN</td>\n",
              "      <td>неизвестно</td>\n",
              "      <td>ANDROID</td>\n",
              "      <td>SMARTPHONE</td>\n",
              "      <td>Россия</td>\n",
              "      <td>Екатеринбург</td>\n",
              "      <td>08 n/a</td>\n",
              "      <td>04 1-5</td>\n",
              "      <td>08 36+</td>\n",
              "      <td>1</td>\n",
              "      <td>Критики</td>\n",
              "    </tr>\n",
              "    <tr>\n",
              "      <th>1209</th>\n",
              "      <td>A28ZDT</td>\n",
              "      <td>4243</td>\n",
              "      <td>False</td>\n",
              "      <td>NaN</td>\n",
              "      <td>неизвестно</td>\n",
              "      <td>ANDROID</td>\n",
              "      <td>SMARTPHONE</td>\n",
              "      <td>Россия</td>\n",
              "      <td>Хабаровск</td>\n",
              "      <td>08 n/a</td>\n",
              "      <td>04 1-5</td>\n",
              "      <td>08 36+</td>\n",
              "      <td>5</td>\n",
              "      <td>Критики</td>\n",
              "    </tr>\n",
              "    <tr>\n",
              "      <th>1321</th>\n",
              "      <td>A2GLPQ</td>\n",
              "      <td>2354</td>\n",
              "      <td>False</td>\n",
              "      <td>NaN</td>\n",
              "      <td>неизвестно</td>\n",
              "      <td>ANDROID</td>\n",
              "      <td>SMARTPHONE</td>\n",
              "      <td>Россия</td>\n",
              "      <td>Иркутск</td>\n",
              "      <td>08 n/a</td>\n",
              "      <td>06 10-15</td>\n",
              "      <td>08 36+</td>\n",
              "      <td>1</td>\n",
              "      <td>Критики</td>\n",
              "    </tr>\n",
              "    <tr>\n",
              "      <th>2163</th>\n",
              "      <td>A41C1K</td>\n",
              "      <td>557</td>\n",
              "      <td>False</td>\n",
              "      <td>NaN</td>\n",
              "      <td>неизвестно</td>\n",
              "      <td>ANDROID</td>\n",
              "      <td>SMARTPHONE</td>\n",
              "      <td>Россия</td>\n",
              "      <td>РостовнаДону</td>\n",
              "      <td>08 n/a</td>\n",
              "      <td>04 1-5</td>\n",
              "      <td>06 13-24</td>\n",
              "      <td>3</td>\n",
              "      <td>Критики</td>\n",
              "    </tr>\n",
              "    <tr>\n",
              "      <th>2667</th>\n",
              "      <td>A513VG</td>\n",
              "      <td>4705</td>\n",
              "      <td>False</td>\n",
              "      <td>NaN</td>\n",
              "      <td>неизвестно</td>\n",
              "      <td>IOS</td>\n",
              "      <td>SMARTPHONE</td>\n",
              "      <td>Россия</td>\n",
              "      <td>Екатеринбург</td>\n",
              "      <td>08 n/a</td>\n",
              "      <td>23 95-100</td>\n",
              "      <td>08 36+</td>\n",
              "      <td>9</td>\n",
              "      <td>Сторонники</td>\n",
              "    </tr>\n",
              "    <tr>\n",
              "      <th>...</th>\n",
              "      <td>...</td>\n",
              "      <td>...</td>\n",
              "      <td>...</td>\n",
              "      <td>...</td>\n",
              "      <td>...</td>\n",
              "      <td>...</td>\n",
              "      <td>...</td>\n",
              "      <td>...</td>\n",
              "      <td>...</td>\n",
              "      <td>...</td>\n",
              "      <td>...</td>\n",
              "      <td>...</td>\n",
              "      <td>...</td>\n",
              "      <td>...</td>\n",
              "    </tr>\n",
              "    <tr>\n",
              "      <th>499598</th>\n",
              "      <td>ZUDYU9</td>\n",
              "      <td>520</td>\n",
              "      <td>False</td>\n",
              "      <td>NaN</td>\n",
              "      <td>неизвестно</td>\n",
              "      <td>ANDROID</td>\n",
              "      <td>SMARTPHONE</td>\n",
              "      <td>Россия</td>\n",
              "      <td>СанктПетербург</td>\n",
              "      <td>08 n/a</td>\n",
              "      <td>24 100+</td>\n",
              "      <td>06 13-24</td>\n",
              "      <td>9</td>\n",
              "      <td>Сторонники</td>\n",
              "    </tr>\n",
              "    <tr>\n",
              "      <th>500834</th>\n",
              "      <td>ZWQJRW</td>\n",
              "      <td>220</td>\n",
              "      <td>True</td>\n",
              "      <td>NaN</td>\n",
              "      <td>Мужчина</td>\n",
              "      <td>ANDROID</td>\n",
              "      <td>SMARTPHONE</td>\n",
              "      <td>Россия</td>\n",
              "      <td>Самара</td>\n",
              "      <td>08 n/a</td>\n",
              "      <td>03 0.1-1</td>\n",
              "      <td>05 7-12</td>\n",
              "      <td>1</td>\n",
              "      <td>Критики</td>\n",
              "    </tr>\n",
              "    <tr>\n",
              "      <th>501246</th>\n",
              "      <td>ZXK9AK</td>\n",
              "      <td>3550</td>\n",
              "      <td>False</td>\n",
              "      <td>NaN</td>\n",
              "      <td>неизвестно</td>\n",
              "      <td>ANDROID</td>\n",
              "      <td>SMARTPHONE</td>\n",
              "      <td>Россия</td>\n",
              "      <td>Томск</td>\n",
              "      <td>08 n/a</td>\n",
              "      <td>04 1-5</td>\n",
              "      <td>08 36+</td>\n",
              "      <td>4</td>\n",
              "      <td>Критики</td>\n",
              "    </tr>\n",
              "    <tr>\n",
              "      <th>502376</th>\n",
              "      <td>ZZRS2G</td>\n",
              "      <td>345</td>\n",
              "      <td>True</td>\n",
              "      <td>NaN</td>\n",
              "      <td>Мужчина</td>\n",
              "      <td>ANDROID</td>\n",
              "      <td>SMARTPHONE</td>\n",
              "      <td>Россия</td>\n",
              "      <td>Москва</td>\n",
              "      <td>08 n/a</td>\n",
              "      <td>04 1-5</td>\n",
              "      <td>05 7-12</td>\n",
              "      <td>5</td>\n",
              "      <td>Критики</td>\n",
              "    </tr>\n",
              "    <tr>\n",
              "      <th>502455</th>\n",
              "      <td>ZZXH2T</td>\n",
              "      <td>268</td>\n",
              "      <td>True</td>\n",
              "      <td>NaN</td>\n",
              "      <td>неизвестно</td>\n",
              "      <td>ANDROID</td>\n",
              "      <td>SMARTPHONE</td>\n",
              "      <td>Россия</td>\n",
              "      <td>Череповец</td>\n",
              "      <td>08 n/a</td>\n",
              "      <td>07 15-20</td>\n",
              "      <td>05 7-12</td>\n",
              "      <td>1</td>\n",
              "      <td>Критики</td>\n",
              "    </tr>\n",
              "  </tbody>\n",
              "</table>\n",
              "<p>554 rows × 14 columns</p>\n",
              "</div>"
            ],
            "text/plain": [
              "       user_id  lt_day is_new  age gender_segment  os_name cpe_type_name  \\\n",
              "751     A1E59W    4055  False  NaN     неизвестно  ANDROID    SMARTPHONE   \n",
              "1209    A28ZDT    4243  False  NaN     неизвестно  ANDROID    SMARTPHONE   \n",
              "1321    A2GLPQ    2354  False  NaN     неизвестно  ANDROID    SMARTPHONE   \n",
              "2163    A41C1K     557  False  NaN     неизвестно  ANDROID    SMARTPHONE   \n",
              "2667    A513VG    4705  False  NaN     неизвестно      IOS    SMARTPHONE   \n",
              "...        ...     ...    ...  ...            ...      ...           ...   \n",
              "499598  ZUDYU9     520  False  NaN     неизвестно  ANDROID    SMARTPHONE   \n",
              "500834  ZWQJRW     220   True  NaN        Мужчина  ANDROID    SMARTPHONE   \n",
              "501246  ZXK9AK    3550  False  NaN     неизвестно  ANDROID    SMARTPHONE   \n",
              "502376  ZZRS2G     345   True  NaN        Мужчина  ANDROID    SMARTPHONE   \n",
              "502455  ZZXH2T     268   True  NaN     неизвестно  ANDROID    SMARTPHONE   \n",
              "\n",
              "       country            city age_segment traffic_segment lifetime_segment  \\\n",
              "751     Россия    Екатеринбург      08 n/a          04 1-5           08 36+   \n",
              "1209    Россия       Хабаровск      08 n/a          04 1-5           08 36+   \n",
              "1321    Россия         Иркутск      08 n/a        06 10-15           08 36+   \n",
              "2163    Россия    РостовнаДону      08 n/a          04 1-5         06 13-24   \n",
              "2667    Россия    Екатеринбург      08 n/a       23 95-100           08 36+   \n",
              "...        ...             ...         ...             ...              ...   \n",
              "499598  Россия  СанктПетербург      08 n/a         24 100+         06 13-24   \n",
              "500834  Россия          Самара      08 n/a        03 0.1-1          05 7-12   \n",
              "501246  Россия           Томск      08 n/a          04 1-5           08 36+   \n",
              "502376  Россия          Москва      08 n/a          04 1-5          05 7-12   \n",
              "502455  Россия       Череповец      08 n/a        07 15-20          05 7-12   \n",
              "\n",
              "        nps_score   nps_group  \n",
              "751             1     Критики  \n",
              "1209            5     Критики  \n",
              "1321            1     Критики  \n",
              "2163            3     Критики  \n",
              "2667            9  Сторонники  \n",
              "...           ...         ...  \n",
              "499598          9  Сторонники  \n",
              "500834          1     Критики  \n",
              "501246          4     Критики  \n",
              "502376          5     Критики  \n",
              "502455          1     Критики  \n",
              "\n",
              "[554 rows x 14 columns]"
            ]
          },
          "execution_count": 6,
          "metadata": {},
          "output_type": "execute_result"
        }
      ],
      "source": [
        "df.loc[df['age'].isna()]"
      ]
    },
    {
      "cell_type": "markdown",
      "id": "4fc9c107",
      "metadata": {
        "id": "4fc9c107"
      },
      "source": [
        "Как видим, 554 записи не имеют значения в столбце \"возраст\". Однако, это учтено в датасете, так как у данных строк группа возрастного сегмента 08 - n/a или отсутствует значение. Таким образом, датафрейм готов к выгрузке в формат csv"
      ]
    },
    {
      "cell_type": "code",
      "execution_count": null,
      "id": "5ee00643",
      "metadata": {
        "id": "5ee00643",
        "outputId": "f02a03e5-e123-4fc0-d6d1-46836af8bee8"
      },
      "outputs": [
        {
          "data": {
            "text/plain": [
              "Женщина       272442\n",
              "Мужчина       228750\n",
              "неизвестно      1301\n",
              "Name: gender_segment, dtype: int64"
            ]
          },
          "execution_count": 7,
          "metadata": {},
          "output_type": "execute_result"
        }
      ],
      "source": [
        "df['gender_segment'].value_counts()"
      ]
    },
    {
      "cell_type": "code",
      "execution_count": null,
      "id": "9db04858",
      "metadata": {
        "id": "9db04858"
      },
      "outputs": [],
      "source": [
        "df.to_csv('telecomm_csi_tableau.csv', index=False)"
      ]
    },
    {
      "cell_type": "markdown",
      "id": "69031bde",
      "metadata": {
        "id": "69031bde"
      },
      "source": [
        "## Создание дашбордов в Tableu"
      ]
    },
    {
      "cell_type": "code",
      "execution_count": null,
      "id": "7e00da77",
      "metadata": {
        "id": "7e00da77",
        "outputId": "28ec6f26-796b-4d8b-814e-0b67d922a25e"
      },
      "outputs": [
        {
          "data": {
            "text/plain": [
              "0.11025029204386927"
            ]
          },
          "execution_count": 9,
          "metadata": {},
          "output_type": "execute_result"
        }
      ],
      "source": [
        "(len(df.loc[df['age'].isna()])/len(df))*100"
      ]
    },
    {
      "cell_type": "code",
      "execution_count": null,
      "id": "cc9d9e1c",
      "metadata": {
        "id": "cc9d9e1c",
        "outputId": "72568c7d-c16e-4325-a9c7-f5138dc9e879"
      },
      "outputs": [
        {
          "data": {
            "text/plain": [
              "0.25890907933045837"
            ]
          },
          "execution_count": 10,
          "metadata": {},
          "output_type": "execute_result"
        }
      ],
      "source": [
        "(len(df.loc[df['gender_segment']=='неизвестно'])/len(df))*100"
      ]
    },
    {
      "cell_type": "markdown",
      "id": "e1fd1bed",
      "metadata": {
        "id": "e1fd1bed"
      },
      "source": [
        "Можно сделать вывод, что кол-во записей, где не указан возраст, составляет ~0,11% от общего кол-ва записей. Будет установлен фильтр на уровне базы данных, в котором все строки без возраста будут убраны"
      ]
    },
    {
      "cell_type": "markdown",
      "id": "b1e90fdb",
      "metadata": {
        "id": "b1e90fdb"
      },
      "source": [
        "Ссылка на презентацию - https://public.tableau.com/views/Project2_1_17051367380920/sheet0?:language=en-US&:display_count=n&:origin=viz_share_link"
      ]
    },
    {
      "cell_type": "markdown",
      "id": "fabefee6",
      "metadata": {
        "id": "fabefee6"
      },
      "source": [
        "Для рассмотрения общей информации о клиентах, прошедших опрос, был построен дашборд №1"
      ]
    },
    {
      "cell_type": "markdown",
      "id": "46e493f0",
      "metadata": {
        "id": "46e493f0"
      },
      "source": [
        "На данном дашборде отображено:\n",
        "- распределение клиентов по возрасту;\n",
        "- распределение клиентов по полу;\n",
        "- распределение клиентов по городам;\n",
        "- распределение клиентов по статусу нового клиента\n",
        "\n",
        "Присутствует фильтр, который позволяет выбрать любой город/комбинацию городов, где проводился опрос\n",
        "\n",
        "Настроено действие, что при выборе какого-либо сегмента на любой из визуализаций, остальные визуализации будут отфильтрованы соотвественно"
      ]
    },
    {
      "cell_type": "markdown",
      "id": "cbf205bb",
      "metadata": {
        "id": "cbf205bb"
      },
      "source": [
        "Были сделаны следующие выводы:\n",
        "- по возрасту присутствуют все возрасты (от 10 до 90), но преобладают люди в возрасте 30-40 лет;        \n",
        "- по полу преобладают женщины (54 % против 46 % мужчин);        \n",
        "- топ 5 городов по участию в опросе это Москва, Санкт-Петербург, Новосибирск и Казань. На эти города приходятся 33,34% опрошенных;      \n",
        "- более 80% опрошенных - \"старые\" клиенты"
      ]
    },
    {
      "cell_type": "markdown",
      "id": "71ea17e5",
      "metadata": {
        "id": "71ea17e5"
      },
      "source": [
        "Для рассмотрения NPS и использованием различных критериев был построен дашборд №2"
      ]
    },
    {
      "cell_type": "markdown",
      "id": "a17f7bda",
      "metadata": {
        "id": "a17f7bda"
      },
      "source": [
        "На данном дашборде отображено:\n",
        "- среднее значение NPS;\n",
        "- среднее значение NPS, меняющееся в зависимости от выбранных критериев;\n",
        "- среднее значение NPS по возрастным группам;\n",
        "- среднее значение NPS по городу;\n",
        "- среднее значение NPS по половому признаку;\n",
        "- среднее значение NPS по признаку \"новизны\" клиента\n",
        "\n",
        "Присутствует фильтр, который позволяет выбрать любой город/комбинацию городов, где проводился опрос\n",
        "\n",
        "Настроено действие, что при выборе какого-либо сегмента на любой из визуализаций, остальные визуализации будут отфильтрованы соотвественно"
      ]
    },
    {
      "cell_type": "markdown",
      "id": "893ada7d",
      "metadata": {
        "id": "893ada7d"
      },
      "source": [
        "Были сделаны следующие выводы:\n",
        "- общий средний NPS - 7.5;                        \n",
        "- средний NPS растет с возрастом, разница между самой младшей возрастной группой и самой старшей - 2 балла;     \n",
        "- самый высокий NPS в Иваново, Череповце, Курске, Саранске, самый маленький - в Воронеже, Рязани, Барнауле, Тюмени;         \n",
        "- в среднем, NPS выше у женщин, чем у мужчин и у \"новых\" клиентов, чем у \"старых\" клиентов"
      ]
    },
    {
      "cell_type": "markdown",
      "id": "87624df0",
      "metadata": {
        "id": "87624df0"
      },
      "source": [
        "Для изучения данных о \"сторонниках\" был сделан дашборд №3"
      ]
    },
    {
      "cell_type": "markdown",
      "id": "bcf3c7fe",
      "metadata": {
        "id": "bcf3c7fe"
      },
      "source": [
        "На дашборде отображено:\n",
        "- кол-во сторонников\n",
        "- средний рейтинг среди сторонников\n",
        "- города, в которых проживают сторонники\n",
        "- распределение сторонников по возрасту\n",
        "- сторонники по половому признаку\n",
        "- сторонники по статусу \"нового\" клиента\n",
        "- типы устройств и операционных систем сторонников\n",
        "\n",
        "Настроено действие, что при выборе какого-либо сегмента на любой из визуализаций, остальные визуализации будут отфильтрованы соотвественно\n",
        "\n",
        "Были сделаны следующие выводы:\n",
        "- всего сторонников 263 981 человек\n",
        "- средний рейтинг составляет 9,8 баллов\n",
        "- в основном они живут в больших городах - Москва, Санкт-Петербург, Новосибирск, Казань, Екатеринбург\n",
        "- большинство из них - \"старые\" пользователи\n",
        "- преобладают женщины\n",
        "- средний возраст - между 30 и 45 годами\n",
        "- подавляющее большинство пользуется смартфоном на операционной системе Android."
      ]
    },
    {
      "cell_type": "markdown",
      "id": "33b5fcfc",
      "metadata": {
        "id": "33b5fcfc"
      },
      "source": [
        "## Выводы"
      ]
    },
    {
      "cell_type": "markdown",
      "id": "19ac643f",
      "metadata": {
        "id": "19ac643f"
      },
      "source": [
        "Были выполнены следующие шаги:\n",
        "- осуществлено подключение к базе данных\n",
        "- построение комплексной таблицы с помощью зароса SQL\n",
        "- первичная проверка данных\n",
        "- выгрузка датафрейма в качестве файла csv\n",
        "- построение визуализаций и дашбордов, используя Tableu\n",
        "- создание презентации на основе дашбордов"
      ]
    }
  ],
  "metadata": {
    "ExecuteTimeLog": [
      {
        "duration": 567,
        "start_time": "2023-12-25T08:32:33.277Z"
      },
      {
        "duration": 2049,
        "start_time": "2023-12-25T08:32:37.004Z"
      },
      {
        "duration": 3,
        "start_time": "2023-12-25T08:32:52.724Z"
      },
      {
        "duration": 463,
        "start_time": "2023-12-25T08:32:56.035Z"
      },
      {
        "duration": 3,
        "start_time": "2023-12-25T09:16:46.340Z"
      },
      {
        "duration": 4196,
        "start_time": "2023-12-25T09:16:47.659Z"
      },
      {
        "duration": 2762,
        "start_time": "2023-12-25T09:16:59.227Z"
      },
      {
        "duration": 8,
        "start_time": "2023-12-27T06:28:19.319Z"
      },
      {
        "duration": 497,
        "start_time": "2023-12-27T06:28:24.978Z"
      },
      {
        "duration": 80,
        "start_time": "2023-12-27T06:28:25.476Z"
      },
      {
        "duration": 3,
        "start_time": "2023-12-27T06:28:25.557Z"
      },
      {
        "duration": 453,
        "start_time": "2023-12-27T06:28:25.561Z"
      },
      {
        "duration": 0,
        "start_time": "2023-12-27T06:28:26.016Z"
      },
      {
        "duration": 2,
        "start_time": "2023-12-27T06:29:14.150Z"
      },
      {
        "duration": 3230,
        "start_time": "2023-12-27T06:29:15.758Z"
      },
      {
        "duration": 2,
        "start_time": "2023-12-27T06:53:46.721Z"
      },
      {
        "duration": 399,
        "start_time": "2023-12-27T06:53:48.440Z"
      },
      {
        "duration": 3,
        "start_time": "2023-12-27T06:53:59.175Z"
      },
      {
        "duration": 2410,
        "start_time": "2023-12-27T06:54:00.656Z"
      },
      {
        "duration": 3,
        "start_time": "2023-12-27T06:54:42.407Z"
      },
      {
        "duration": 2261,
        "start_time": "2023-12-27T06:54:44.183Z"
      },
      {
        "duration": 2,
        "start_time": "2023-12-27T07:01:49.855Z"
      },
      {
        "duration": 353,
        "start_time": "2023-12-27T07:01:52.119Z"
      },
      {
        "duration": 2,
        "start_time": "2023-12-27T07:02:40.494Z"
      },
      {
        "duration": 375,
        "start_time": "2023-12-27T07:02:42.694Z"
      },
      {
        "duration": 3,
        "start_time": "2023-12-27T07:03:02.094Z"
      },
      {
        "duration": 614,
        "start_time": "2023-12-27T07:03:03.662Z"
      },
      {
        "duration": 3,
        "start_time": "2023-12-27T07:07:45.197Z"
      },
      {
        "duration": 5244,
        "start_time": "2023-12-27T07:07:47.029Z"
      },
      {
        "duration": 5188,
        "start_time": "2023-12-27T07:08:04.133Z"
      },
      {
        "duration": 3,
        "start_time": "2023-12-27T07:09:20.405Z"
      },
      {
        "duration": 5169,
        "start_time": "2023-12-27T07:09:22.173Z"
      },
      {
        "duration": 3,
        "start_time": "2023-12-27T07:11:01.485Z"
      },
      {
        "duration": 5102,
        "start_time": "2023-12-27T07:11:03.629Z"
      },
      {
        "duration": 492,
        "start_time": "2023-12-27T07:16:24.763Z"
      },
      {
        "duration": 82,
        "start_time": "2023-12-27T07:16:53.715Z"
      },
      {
        "duration": 21,
        "start_time": "2023-12-27T07:16:57.755Z"
      },
      {
        "duration": 4615,
        "start_time": "2023-12-27T07:21:02.915Z"
      },
      {
        "duration": 511,
        "start_time": "2023-12-27T07:34:13.176Z"
      },
      {
        "duration": 21,
        "start_time": "2023-12-27T07:34:31.720Z"
      },
      {
        "duration": 4480,
        "start_time": "2023-12-27T07:42:37.629Z"
      },
      {
        "duration": 549,
        "start_time": "2023-12-27T08:01:54.409Z"
      },
      {
        "duration": 67,
        "start_time": "2023-12-27T08:01:54.959Z"
      },
      {
        "duration": 4,
        "start_time": "2023-12-27T08:01:55.027Z"
      },
      {
        "duration": 5091,
        "start_time": "2023-12-27T08:01:55.032Z"
      },
      {
        "duration": 498,
        "start_time": "2023-12-27T08:02:00.125Z"
      },
      {
        "duration": 20,
        "start_time": "2023-12-27T08:02:00.625Z"
      },
      {
        "duration": 4676,
        "start_time": "2023-12-27T08:02:00.646Z"
      },
      {
        "duration": 3,
        "start_time": "2023-12-27T09:25:41.764Z"
      },
      {
        "duration": 4559,
        "start_time": "2023-12-27T09:26:09.840Z"
      },
      {
        "duration": 7,
        "start_time": "2023-12-27T09:26:22.520Z"
      },
      {
        "duration": 7,
        "start_time": "2023-12-27T09:27:21.751Z"
      },
      {
        "duration": 535,
        "start_time": "2023-12-28T07:57:25.482Z"
      },
      {
        "duration": 72,
        "start_time": "2023-12-28T07:57:26.019Z"
      },
      {
        "duration": 3,
        "start_time": "2023-12-28T07:57:26.093Z"
      },
      {
        "duration": 5643,
        "start_time": "2023-12-28T07:57:26.098Z"
      },
      {
        "duration": 577,
        "start_time": "2023-12-28T07:57:31.745Z"
      },
      {
        "duration": 23,
        "start_time": "2023-12-28T07:57:32.331Z"
      },
      {
        "duration": 5692,
        "start_time": "2023-12-28T07:57:32.356Z"
      },
      {
        "duration": 10,
        "start_time": "2023-12-28T07:57:38.050Z"
      },
      {
        "duration": 497,
        "start_time": "2023-12-28T11:44:01.062Z"
      },
      {
        "duration": 76,
        "start_time": "2023-12-28T11:44:01.561Z"
      },
      {
        "duration": 19,
        "start_time": "2023-12-28T11:44:01.639Z"
      },
      {
        "duration": 5615,
        "start_time": "2023-12-28T11:44:01.659Z"
      },
      {
        "duration": 525,
        "start_time": "2023-12-28T11:44:07.276Z"
      },
      {
        "duration": 26,
        "start_time": "2023-12-28T11:44:07.803Z"
      },
      {
        "duration": 4652,
        "start_time": "2023-12-28T11:44:07.830Z"
      },
      {
        "duration": 6,
        "start_time": "2023-12-28T11:44:12.484Z"
      },
      {
        "duration": 533,
        "start_time": "2023-12-28T14:56:35.216Z"
      },
      {
        "duration": 68,
        "start_time": "2023-12-28T14:56:35.752Z"
      },
      {
        "duration": 4,
        "start_time": "2023-12-28T14:56:35.821Z"
      },
      {
        "duration": 5262,
        "start_time": "2023-12-28T14:56:35.827Z"
      },
      {
        "duration": 548,
        "start_time": "2023-12-28T14:56:41.092Z"
      },
      {
        "duration": 26,
        "start_time": "2023-12-28T14:56:41.641Z"
      },
      {
        "duration": 4988,
        "start_time": "2023-12-28T14:56:41.669Z"
      },
      {
        "duration": 7,
        "start_time": "2023-12-28T14:56:46.659Z"
      },
      {
        "duration": 581,
        "start_time": "2023-12-28T18:50:49.710Z"
      },
      {
        "duration": 66,
        "start_time": "2023-12-28T18:50:57.154Z"
      },
      {
        "duration": 3,
        "start_time": "2023-12-28T18:51:02.471Z"
      },
      {
        "duration": 5908,
        "start_time": "2023-12-28T18:51:07.746Z"
      },
      {
        "duration": 553,
        "start_time": "2023-12-28T18:51:16.652Z"
      },
      {
        "duration": 23,
        "start_time": "2023-12-28T18:51:21.454Z"
      },
      {
        "duration": 78,
        "start_time": "2023-12-28T18:51:39.656Z"
      },
      {
        "duration": 119,
        "start_time": "2023-12-28T18:51:43.133Z"
      },
      {
        "duration": 523,
        "start_time": "2024-01-13T08:47:03.976Z"
      },
      {
        "duration": 84,
        "start_time": "2024-01-13T08:47:04.501Z"
      },
      {
        "duration": 4,
        "start_time": "2024-01-13T08:47:04.586Z"
      },
      {
        "duration": 5301,
        "start_time": "2024-01-13T08:47:04.592Z"
      },
      {
        "duration": 483,
        "start_time": "2024-01-13T08:47:09.895Z"
      },
      {
        "duration": 27,
        "start_time": "2024-01-13T08:47:10.380Z"
      },
      {
        "duration": 108,
        "start_time": "2024-01-13T08:47:10.409Z"
      },
      {
        "duration": 4648,
        "start_time": "2024-01-13T08:47:10.518Z"
      },
      {
        "duration": 8,
        "start_time": "2024-01-13T08:47:15.168Z"
      },
      {
        "duration": 63,
        "start_time": "2024-01-13T08:57:15.418Z"
      },
      {
        "duration": 489,
        "start_time": "2024-01-13T14:00:15.313Z"
      },
      {
        "duration": 75,
        "start_time": "2024-01-13T14:00:15.804Z"
      },
      {
        "duration": 3,
        "start_time": "2024-01-13T14:00:15.881Z"
      },
      {
        "duration": 4835,
        "start_time": "2024-01-13T14:00:15.885Z"
      },
      {
        "duration": 482,
        "start_time": "2024-01-13T14:00:20.722Z"
      },
      {
        "duration": 20,
        "start_time": "2024-01-13T14:00:21.205Z"
      },
      {
        "duration": 110,
        "start_time": "2024-01-13T14:00:21.227Z"
      },
      {
        "duration": 4149,
        "start_time": "2024-01-13T14:00:21.338Z"
      },
      {
        "duration": 6,
        "start_time": "2024-01-13T14:00:25.489Z"
      },
      {
        "duration": 82,
        "start_time": "2024-01-13T14:00:25.497Z"
      }
    ],
    "kernelspec": {
      "display_name": "Python 3 (ipykernel)",
      "language": "python",
      "name": "python3"
    },
    "language_info": {
      "codemirror_mode": {
        "name": "ipython",
        "version": 3
      },
      "file_extension": ".py",
      "mimetype": "text/x-python",
      "name": "python",
      "nbconvert_exporter": "python",
      "pygments_lexer": "ipython3",
      "version": "3.9.5"
    },
    "toc": {
      "base_numbering": 1,
      "nav_menu": {},
      "number_sections": true,
      "sideBar": true,
      "skip_h1_title": true,
      "title_cell": "Table of Contents",
      "title_sidebar": "Contents",
      "toc_cell": false,
      "toc_position": {},
      "toc_section_display": true,
      "toc_window_display": false
    },
    "colab": {
      "provenance": []
    }
  },
  "nbformat": 4,
  "nbformat_minor": 5
}