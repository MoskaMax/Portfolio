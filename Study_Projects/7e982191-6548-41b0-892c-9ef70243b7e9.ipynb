{
 "cells": [
  {
   "cell_type": "markdown",
   "metadata": {},
   "source": [
    "Привет, Максим!\n",
    "\n",
    "Меня зовут Вячеслав Погорелый, и я буду проводить ревью твоего проекта. \n",
    "\n",
    "Предлагаю перейти на \"ты\", если не против)\n",
    "\n",
    "Но если это не удобно - дай знать, и мы перейдем на \"вы\". Моя главная задача — не находить сделанные тобою ошибки, а передать свой опыт и помочь тебе стать аналитиком данных.\n",
    "\n",
    "Я отметил комментарии и замечания разным цветом далее по тексту markdown:\n",
    "\n",
    "---    \n",
    "<div class=\"alert alert-block alert-danger\">\n",
    "    \n",
    "### Ошибка\n",
    "    \n",
    "Критическое замечание, которые следует исправить.\n",
    "</div> \n",
    "    \n",
    "---\n",
    "    \n",
    "<div class=\"alert alert-block alert-warning\">\n",
    "    \n",
    "### Совет\n",
    "    \n",
    "Замечание\\совет на будущее.\n",
    "</div>\n",
    "    \n",
    "---\n",
    "    \n",
    "<div class=\"alert alert-block alert-success\">\n",
    "    \n",
    "### Успех\n",
    "    \n",
    "Когда всё сделано правильно.\n",
    "</div>\n",
    "    \n",
    "    \n",
    "    \n",
    "Будет здорово, если для ответов ты выберешь любой **<font color=\"maroon\">читабельный и заметный цвет</font>**, так мне будет проще все проверить.\n",
    "\n",
    "\n",
    "При доработке проекта попрошу тебя сохранить и не видоизменять заметки ревьюера, это осложняет повторную проверку"
   ]
  },
  {
   "cell_type": "markdown",
   "metadata": {},
   "source": [
    "<div class=\"alert alert-block alert-success\">\n",
    " \n",
    "# Итоговый Комментарий ревьюера ver.2 \n",
    "    \n",
    "#### Успех\n",
    "    \n",
    "Спасибо тебе за доработку проекта. Вот теперь я его готов принять. От себя я хочу пожелать успехов в дальнешей учебе. Ты точно справишься, я уверен. "
   ]
  },
  {
   "cell_type": "markdown",
   "metadata": {},
   "source": [
    "# Сборный проект\n",
    "Вы работаете в интернет-магазине «Стримчик», который продаёт по всему миру компьютерные игры. Из открытых источников доступны исторические данные о продажах игр, оценки пользователей и экспертов, жанры и платформы (например, Xbox или PlayStation). Вам нужно выявить определяющие успешность игры закономерности. Это позволит сделать ставку на потенциально популярный продукт и спланировать рекламные кампании.\n",
    "\n",
    "Перед вами данные до 2016 года. Представим, что сейчас декабрь 2016 г., и вы планируете кампанию на 2017-й. Нужно отработать принцип работы с данными. Не важно, прогнозируете ли вы продажи на 2017 год по данным 2016-го или же 2027-й — по данным 2026 года.\n",
    "\n",
    "В наборе данных попадается аббревиатура ESRB (Entertainment Software Rating Board) — это ассоциация, определяющая возрастной рейтинг компьютерных игр. ESRB оценивает игровой контент и присваивает ему подходящую возрастную категорию, например, «Для взрослых», «Для детей младшего возраста» или «Для подростков».|"
   ]
  },
  {
   "cell_type": "markdown",
   "metadata": {},
   "source": [
    "<div class=\"alert alert-block alert-success\">\n",
    " \n",
    "### Комментарий ревьюера\n",
    "    \n",
    "#### Успех\n",
    "    \n",
    "Спасибо тебе за оформление оглавления к проекту. "
   ]
  },
  {
   "cell_type": "markdown",
   "metadata": {},
   "source": [
    "## Открытие файла и изучение общей информации"
   ]
  },
  {
   "cell_type": "markdown",
   "metadata": {},
   "source": [
    "Импортируем библиотеки"
   ]
  },
  {
   "cell_type": "code",
   "execution_count": 1,
   "metadata": {},
   "outputs": [],
   "source": [
    "import pandas as pd\n",
    "import numpy as np\n",
    "import matplotlib.pyplot as plt\n",
    "from scipy.stats import ttest_ind\n",
    "import seaborn as sns"
   ]
  },
  {
   "cell_type": "code",
   "execution_count": 2,
   "metadata": {},
   "outputs": [
    {
     "data": {
      "text/html": [
       "<div>\n",
       "<style scoped>\n",
       "    .dataframe tbody tr th:only-of-type {\n",
       "        vertical-align: middle;\n",
       "    }\n",
       "\n",
       "    .dataframe tbody tr th {\n",
       "        vertical-align: top;\n",
       "    }\n",
       "\n",
       "    .dataframe thead th {\n",
       "        text-align: right;\n",
       "    }\n",
       "</style>\n",
       "<table border=\"1\" class=\"dataframe\">\n",
       "  <thead>\n",
       "    <tr style=\"text-align: right;\">\n",
       "      <th></th>\n",
       "      <th>Name</th>\n",
       "      <th>Platform</th>\n",
       "      <th>Year_of_Release</th>\n",
       "      <th>Genre</th>\n",
       "      <th>NA_sales</th>\n",
       "      <th>EU_sales</th>\n",
       "      <th>JP_sales</th>\n",
       "      <th>Other_sales</th>\n",
       "      <th>Critic_Score</th>\n",
       "      <th>User_Score</th>\n",
       "      <th>Rating</th>\n",
       "    </tr>\n",
       "  </thead>\n",
       "  <tbody>\n",
       "    <tr>\n",
       "      <th>0</th>\n",
       "      <td>Wii Sports</td>\n",
       "      <td>Wii</td>\n",
       "      <td>2006.0</td>\n",
       "      <td>Sports</td>\n",
       "      <td>41.36</td>\n",
       "      <td>28.96</td>\n",
       "      <td>3.77</td>\n",
       "      <td>8.45</td>\n",
       "      <td>76.0</td>\n",
       "      <td>8</td>\n",
       "      <td>E</td>\n",
       "    </tr>\n",
       "    <tr>\n",
       "      <th>1</th>\n",
       "      <td>Super Mario Bros.</td>\n",
       "      <td>NES</td>\n",
       "      <td>1985.0</td>\n",
       "      <td>Platform</td>\n",
       "      <td>29.08</td>\n",
       "      <td>3.58</td>\n",
       "      <td>6.81</td>\n",
       "      <td>0.77</td>\n",
       "      <td>NaN</td>\n",
       "      <td>NaN</td>\n",
       "      <td>NaN</td>\n",
       "    </tr>\n",
       "    <tr>\n",
       "      <th>2</th>\n",
       "      <td>Mario Kart Wii</td>\n",
       "      <td>Wii</td>\n",
       "      <td>2008.0</td>\n",
       "      <td>Racing</td>\n",
       "      <td>15.68</td>\n",
       "      <td>12.76</td>\n",
       "      <td>3.79</td>\n",
       "      <td>3.29</td>\n",
       "      <td>82.0</td>\n",
       "      <td>8.3</td>\n",
       "      <td>E</td>\n",
       "    </tr>\n",
       "    <tr>\n",
       "      <th>3</th>\n",
       "      <td>Wii Sports Resort</td>\n",
       "      <td>Wii</td>\n",
       "      <td>2009.0</td>\n",
       "      <td>Sports</td>\n",
       "      <td>15.61</td>\n",
       "      <td>10.93</td>\n",
       "      <td>3.28</td>\n",
       "      <td>2.95</td>\n",
       "      <td>80.0</td>\n",
       "      <td>8</td>\n",
       "      <td>E</td>\n",
       "    </tr>\n",
       "    <tr>\n",
       "      <th>4</th>\n",
       "      <td>Pokemon Red/Pokemon Blue</td>\n",
       "      <td>GB</td>\n",
       "      <td>1996.0</td>\n",
       "      <td>Role-Playing</td>\n",
       "      <td>11.27</td>\n",
       "      <td>8.89</td>\n",
       "      <td>10.22</td>\n",
       "      <td>1.00</td>\n",
       "      <td>NaN</td>\n",
       "      <td>NaN</td>\n",
       "      <td>NaN</td>\n",
       "    </tr>\n",
       "    <tr>\n",
       "      <th>5</th>\n",
       "      <td>Tetris</td>\n",
       "      <td>GB</td>\n",
       "      <td>1989.0</td>\n",
       "      <td>Puzzle</td>\n",
       "      <td>23.20</td>\n",
       "      <td>2.26</td>\n",
       "      <td>4.22</td>\n",
       "      <td>0.58</td>\n",
       "      <td>NaN</td>\n",
       "      <td>NaN</td>\n",
       "      <td>NaN</td>\n",
       "    </tr>\n",
       "    <tr>\n",
       "      <th>6</th>\n",
       "      <td>New Super Mario Bros.</td>\n",
       "      <td>DS</td>\n",
       "      <td>2006.0</td>\n",
       "      <td>Platform</td>\n",
       "      <td>11.28</td>\n",
       "      <td>9.14</td>\n",
       "      <td>6.50</td>\n",
       "      <td>2.88</td>\n",
       "      <td>89.0</td>\n",
       "      <td>8.5</td>\n",
       "      <td>E</td>\n",
       "    </tr>\n",
       "    <tr>\n",
       "      <th>7</th>\n",
       "      <td>Wii Play</td>\n",
       "      <td>Wii</td>\n",
       "      <td>2006.0</td>\n",
       "      <td>Misc</td>\n",
       "      <td>13.96</td>\n",
       "      <td>9.18</td>\n",
       "      <td>2.93</td>\n",
       "      <td>2.84</td>\n",
       "      <td>58.0</td>\n",
       "      <td>6.6</td>\n",
       "      <td>E</td>\n",
       "    </tr>\n",
       "    <tr>\n",
       "      <th>8</th>\n",
       "      <td>New Super Mario Bros. Wii</td>\n",
       "      <td>Wii</td>\n",
       "      <td>2009.0</td>\n",
       "      <td>Platform</td>\n",
       "      <td>14.44</td>\n",
       "      <td>6.94</td>\n",
       "      <td>4.70</td>\n",
       "      <td>2.24</td>\n",
       "      <td>87.0</td>\n",
       "      <td>8.4</td>\n",
       "      <td>E</td>\n",
       "    </tr>\n",
       "    <tr>\n",
       "      <th>9</th>\n",
       "      <td>Duck Hunt</td>\n",
       "      <td>NES</td>\n",
       "      <td>1984.0</td>\n",
       "      <td>Shooter</td>\n",
       "      <td>26.93</td>\n",
       "      <td>0.63</td>\n",
       "      <td>0.28</td>\n",
       "      <td>0.47</td>\n",
       "      <td>NaN</td>\n",
       "      <td>NaN</td>\n",
       "      <td>NaN</td>\n",
       "    </tr>\n",
       "  </tbody>\n",
       "</table>\n",
       "</div>"
      ],
      "text/plain": [
       "                        Name Platform  Year_of_Release         Genre  \\\n",
       "0                 Wii Sports      Wii           2006.0        Sports   \n",
       "1          Super Mario Bros.      NES           1985.0      Platform   \n",
       "2             Mario Kart Wii      Wii           2008.0        Racing   \n",
       "3          Wii Sports Resort      Wii           2009.0        Sports   \n",
       "4   Pokemon Red/Pokemon Blue       GB           1996.0  Role-Playing   \n",
       "5                     Tetris       GB           1989.0        Puzzle   \n",
       "6      New Super Mario Bros.       DS           2006.0      Platform   \n",
       "7                   Wii Play      Wii           2006.0          Misc   \n",
       "8  New Super Mario Bros. Wii      Wii           2009.0      Platform   \n",
       "9                  Duck Hunt      NES           1984.0       Shooter   \n",
       "\n",
       "   NA_sales  EU_sales  JP_sales  Other_sales  Critic_Score User_Score Rating  \n",
       "0     41.36     28.96      3.77         8.45          76.0          8      E  \n",
       "1     29.08      3.58      6.81         0.77           NaN        NaN    NaN  \n",
       "2     15.68     12.76      3.79         3.29          82.0        8.3      E  \n",
       "3     15.61     10.93      3.28         2.95          80.0          8      E  \n",
       "4     11.27      8.89     10.22         1.00           NaN        NaN    NaN  \n",
       "5     23.20      2.26      4.22         0.58           NaN        NaN    NaN  \n",
       "6     11.28      9.14      6.50         2.88          89.0        8.5      E  \n",
       "7     13.96      9.18      2.93         2.84          58.0        6.6      E  \n",
       "8     14.44      6.94      4.70         2.24          87.0        8.4      E  \n",
       "9     26.93      0.63      0.28         0.47           NaN        NaN    NaN  "
      ]
     },
     "execution_count": 2,
     "metadata": {},
     "output_type": "execute_result"
    }
   ],
   "source": [
    "data = pd.read_csv('/datasets/games.csv')\n",
    "data.head(10)"
   ]
  },
  {
   "cell_type": "code",
   "execution_count": 3,
   "metadata": {},
   "outputs": [
    {
     "name": "stdout",
     "output_type": "stream",
     "text": [
      "<class 'pandas.core.frame.DataFrame'>\n",
      "RangeIndex: 16715 entries, 0 to 16714\n",
      "Data columns (total 11 columns):\n",
      " #   Column           Non-Null Count  Dtype  \n",
      "---  ------           --------------  -----  \n",
      " 0   Name             16713 non-null  object \n",
      " 1   Platform         16715 non-null  object \n",
      " 2   Year_of_Release  16446 non-null  float64\n",
      " 3   Genre            16713 non-null  object \n",
      " 4   NA_sales         16715 non-null  float64\n",
      " 5   EU_sales         16715 non-null  float64\n",
      " 6   JP_sales         16715 non-null  float64\n",
      " 7   Other_sales      16715 non-null  float64\n",
      " 8   Critic_Score     8137 non-null   float64\n",
      " 9   User_Score       10014 non-null  object \n",
      " 10  Rating           9949 non-null   object \n",
      "dtypes: float64(6), object(5)\n",
      "memory usage: 1.4+ MB\n"
     ]
    }
   ],
   "source": [
    "data.info()"
   ]
  },
  {
   "cell_type": "markdown",
   "metadata": {},
   "source": [
    "По первичному анализу данных можно сделать следующие выводы:\n",
    "- присутствует много пропусков;\n",
    "- не все столбцы имеют корректный тип данных"
   ]
  },
  {
   "cell_type": "markdown",
   "metadata": {},
   "source": [
    "<div class=\"alert alert-block alert-success\">\n",
    " \n",
    "### Комментарий ревьюера\n",
    "    \n",
    "#### Успех\n",
    "\n",
    "Первичная информация о данных получена. Мы ознакомились с данными первично и составили первое представление о них. "
   ]
  },
  {
   "cell_type": "markdown",
   "metadata": {},
   "source": [
    "## Подготовка данных"
   ]
  },
  {
   "cell_type": "markdown",
   "metadata": {},
   "source": [
    "Заменим названия столбцов (приведем к нижнему регистру)"
   ]
  },
  {
   "cell_type": "code",
   "execution_count": 4,
   "metadata": {},
   "outputs": [],
   "source": [
    "data.columns = data.columns.str.lower()"
   ]
  },
  {
   "cell_type": "markdown",
   "metadata": {},
   "source": [
    "Преобразуем данные в нужные типы."
   ]
  },
  {
   "cell_type": "code",
   "execution_count": 5,
   "metadata": {},
   "outputs": [],
   "source": [
    "data['user_score'] = data['user_score'].replace('tbd', np.NaN)\n",
    "data['user_score'] = data['user_score'].astype('float32')"
   ]
  },
  {
   "cell_type": "markdown",
   "metadata": {},
   "source": [
    "План обработки пропусков:\n",
    "- name - малое кол-во пропусков, не повлияет на дальнейший анализ. для чистоты данных удалим;\n",
    "- genre - малое кол-во пропусков, не повлияет на дальнейший анализ. для чистоты данных удалим;\n",
    "- year_of_release - не очень важный для анализа столбец, однако заполнить его медианами не представляется возможным, т.к. может повлиять на анализ - оставим как есть\n",
    "- critic_score - важный столбец, который никак не заменить и лучше всего подставить заглушку;\n",
    "- user_score - важный столбец, который никак не заменить и лучше всего подставить заглушку;\n",
    "- rating - в виду отcутствия данных заменим пропуски на \"no rating\""
   ]
  },
  {
   "cell_type": "markdown",
   "metadata": {},
   "source": [
    "Возможные причины возникновения пропусков:\n",
    "- name and genre - возможна ошибка при выгрузке данных, так как эти значения точно должны быть у каждой записи;\n",
    "- critic_score and user_score - возможное отсутствие отзывов/ревью или их необходимого кол-ва для аггрегации на портале;\n",
    "- rating - возможно игра не проходила такую сертификацию или данные не были подгружены\n",
    "- year of release - отстутвие данных введу малого наличия желающих заполнить эти данные (малоизвестные игры)"
   ]
  },
  {
   "cell_type": "markdown",
   "metadata": {},
   "source": [
    "<div class=\"alert alert-block alert-warning\">\n",
    " \n",
    "### Комментарий ревьюера\n",
    "    \n",
    "#### Совет\n",
    "    \n",
    "А тут лучше всего переводить в float32, так как это поможем сэкономить вычислительную память."
   ]
  },
  {
   "cell_type": "markdown",
   "metadata": {},
   "source": [
    "# **<font color=\"maroon\">привел в соответствие</font>**"
   ]
  },
  {
   "cell_type": "code",
   "execution_count": 6,
   "metadata": {},
   "outputs": [],
   "source": [
    "data = data.dropna(subset=['genre', 'name'])"
   ]
  },
  {
   "cell_type": "markdown",
   "metadata": {},
   "source": [
    "Для корректного преобразования необходимо было избавиться от строк \"TBD\" в стоблце user_score. Так как to be determined - это отсутствие на данный момент рейтинга, были заменены на Nan."
   ]
  },
  {
   "cell_type": "markdown",
   "metadata": {},
   "source": [
    "<div class=\"alert alert-block alert-danger\">\n",
    " \n",
    "### Комментарий ревьюера\n",
    "    \n",
    "#### Ошибка\n",
    "    \n",
    "А еще тут надо высказаться о причинах возникновения прпоусков.  А еще надо описать как поступаем с другими прпоусками."
   ]
  },
  {
   "cell_type": "markdown",
   "metadata": {},
   "source": [
    "<div class=\"alert alert-block alert-success\">\n",
    " \n",
    "# Комментарий ревьюера ver.2 \n",
    "    \n",
    "#### Успех\n",
    "    \n",
    "Исправлено"
   ]
  },
  {
   "cell_type": "markdown",
   "metadata": {},
   "source": [
    "# **<font color=\"maroon\">высказался выше</font>**"
   ]
  },
  {
   "cell_type": "markdown",
   "metadata": {},
   "source": [
    "Заполним пропуски значением -1"
   ]
  },
  {
   "cell_type": "code",
   "execution_count": 7,
   "metadata": {},
   "outputs": [],
   "source": [
    "data['critic_score'] = data['critic_score'].fillna(-1)\n",
    "data['user_score'] = data['user_score'].fillna(-1)\n",
    "\n",
    "data['rating'] = data['rating'].fillna('no rating')"
   ]
  },
  {
   "cell_type": "code",
   "execution_count": 8,
   "metadata": {},
   "outputs": [
    {
     "name": "stdout",
     "output_type": "stream",
     "text": [
      "<class 'pandas.core.frame.DataFrame'>\n",
      "Int64Index: 16713 entries, 0 to 16714\n",
      "Data columns (total 11 columns):\n",
      " #   Column           Non-Null Count  Dtype  \n",
      "---  ------           --------------  -----  \n",
      " 0   name             16713 non-null  object \n",
      " 1   platform         16713 non-null  object \n",
      " 2   year_of_release  16444 non-null  float64\n",
      " 3   genre            16713 non-null  object \n",
      " 4   na_sales         16713 non-null  float64\n",
      " 5   eu_sales         16713 non-null  float64\n",
      " 6   jp_sales         16713 non-null  float64\n",
      " 7   other_sales      16713 non-null  float64\n",
      " 8   critic_score     16713 non-null  float64\n",
      " 9   user_score       16713 non-null  float32\n",
      " 10  rating           16713 non-null  object \n",
      "dtypes: float32(1), float64(6), object(4)\n",
      "memory usage: 1.5+ MB\n"
     ]
    }
   ],
   "source": [
    "data.info()"
   ]
  },
  {
   "cell_type": "markdown",
   "metadata": {},
   "source": [
    "<div class=\"alert alert-block alert-success\">\n",
    " \n",
    "### Комментарий ревьюера\n",
    "    \n",
    "#### Успех\n",
    "    \n",
    "Согласен. Тут пропуски оптимально никак не заменить и лучше всего подставить заглушку "
   ]
  },
  {
   "cell_type": "markdown",
   "metadata": {},
   "source": [
    "Проверим дубликаты"
   ]
  },
  {
   "cell_type": "code",
   "execution_count": 9,
   "metadata": {},
   "outputs": [
    {
     "data": {
      "text/html": [
       "<div>\n",
       "<style scoped>\n",
       "    .dataframe tbody tr th:only-of-type {\n",
       "        vertical-align: middle;\n",
       "    }\n",
       "\n",
       "    .dataframe tbody tr th {\n",
       "        vertical-align: top;\n",
       "    }\n",
       "\n",
       "    .dataframe thead th {\n",
       "        text-align: right;\n",
       "    }\n",
       "</style>\n",
       "<table border=\"1\" class=\"dataframe\">\n",
       "  <thead>\n",
       "    <tr style=\"text-align: right;\">\n",
       "      <th></th>\n",
       "      <th>name</th>\n",
       "      <th>platform</th>\n",
       "      <th>year_of_release</th>\n",
       "      <th>genre</th>\n",
       "      <th>na_sales</th>\n",
       "      <th>eu_sales</th>\n",
       "      <th>jp_sales</th>\n",
       "      <th>other_sales</th>\n",
       "      <th>critic_score</th>\n",
       "      <th>user_score</th>\n",
       "      <th>rating</th>\n",
       "    </tr>\n",
       "  </thead>\n",
       "  <tbody>\n",
       "  </tbody>\n",
       "</table>\n",
       "</div>"
      ],
      "text/plain": [
       "Empty DataFrame\n",
       "Columns: [name, platform, year_of_release, genre, na_sales, eu_sales, jp_sales, other_sales, critic_score, user_score, rating]\n",
       "Index: []"
      ]
     },
     "execution_count": 9,
     "metadata": {},
     "output_type": "execute_result"
    }
   ],
   "source": [
    "data[data.duplicated()]"
   ]
  },
  {
   "cell_type": "markdown",
   "metadata": {},
   "source": [
    "Полные дубликаты отсутствуют. Дубликаты возможны при перевыпуске существующих игр на разных платформах, на анализ это не повлияет "
   ]
  },
  {
   "cell_type": "markdown",
   "metadata": {},
   "source": [
    "Посчитаем суммарные продажи во всех регионах и запишем их в отдельный столбец"
   ]
  },
  {
   "cell_type": "code",
   "execution_count": 10,
   "metadata": {},
   "outputs": [],
   "source": [
    "data['sales_total'] = data[['na_sales', 'eu_sales', 'jp_sales', 'other_sales']].sum(axis=1)"
   ]
  },
  {
   "cell_type": "markdown",
   "metadata": {},
   "source": [
    "<div class=\"alert alert-block alert-warning\">\n",
    " \n",
    "### Комментарий ревьюера\n",
    "    \n",
    "#### Совет\n",
    "    \n",
    "А тут можно использовать такой метод `df['x'] = df[['a', 'b', 'c']].sum(axis=1)`"
   ]
  },
  {
   "cell_type": "markdown",
   "metadata": {},
   "source": [
    "<div class=\"alert alert-block alert-danger\">\n",
    " \n",
    "### Комментарий ревьюера\n",
    "    \n",
    "#### Ошибка\n",
    "\n",
    "А вот тут стоит добавить промежуточный вывод по итогу раздела + нене вижу проверки на дубли. "
   ]
  },
  {
   "cell_type": "markdown",
   "metadata": {},
   "source": [
    "<div class=\"alert alert-block alert-success\">\n",
    " \n",
    "# Комментарий ревьюера ver.2 \n",
    "    \n",
    "#### Успех\n",
    "    \n",
    "Превосходно и здесь "
   ]
  },
  {
   "cell_type": "markdown",
   "metadata": {},
   "source": [
    "# **<font color=\"maroon\">привел в соответствие</font>**"
   ]
  },
  {
   "cell_type": "markdown",
   "metadata": {},
   "source": [
    "Можно сделать следующий вывод:\n",
    "- большая часть необходимых данных присутствует;\n",
    "- оценки критиков и пользователей отсутствовали возможно в связи с их реальным отсутствием. Пропуски были заменены заглушками для сохранения целостности дальнейшего анализа;\n",
    "- был выведен столбец общих продаж во всех регионах;\n",
    "- полных дубликатов обнаружено не было\n",
    "\n",
    "Таким образом, данные обработаны и готовы для исследовательского анализа"
   ]
  },
  {
   "cell_type": "markdown",
   "metadata": {},
   "source": [
    "## Исследовательский анализ данных"
   ]
  },
  {
   "cell_type": "markdown",
   "metadata": {},
   "source": [
    "Посмотрим, сколько игр выпускалось в разные годы"
   ]
  },
  {
   "cell_type": "code",
   "execution_count": 11,
   "metadata": {},
   "outputs": [],
   "source": [
    "def bar_maker(groupby_column, func, title, y='name'):\n",
    "    df_to_plot = data.groupby(groupby_column)[y]\n",
    "    if func == 'count':\n",
    "        df_to_plot_calculated = df_to_plot.count()\n",
    "        figsize = (15,5)\n",
    "        plot = df_to_plot_calculated.plot(kind='bar', y=y, figsize=figsize, title=title)\n",
    "    elif func == 'sum':\n",
    "        df_to_plot_calculated = df_to_plot.sum().sort_values()\n",
    "        figsize = (15,10)\n",
    "        plot = df_to_plot_calculated.plot(kind='barh', y=y, figsize=figsize, title=title)"
   ]
  },
  {
   "cell_type": "code",
   "execution_count": 12,
   "metadata": {},
   "outputs": [
    {
     "data": {
      "image/png": "[encoded data removed]",
      "text/plain": [
       "<Figure size 1080x360 with 1 Axes>"
      ]
     },
     "metadata": {
      "needs_background": "light"
     },
     "output_type": "display_data"
    }
   ],
   "source": [
    "bar_maker('year_of_release', 'count','кол-во игр по годам')"
   ]
  },
  {
   "cell_type": "markdown",
   "metadata": {},
   "source": [
    "<div class=\"alert alert-block alert-success\">\n",
    " \n",
    "### Комментарий ревьюера\n",
    "    \n",
    "#### Успех\n",
    "\n",
    "Классный график получился. По нему мы видим, как ведет себя выпуск платформ с каждым годом. "
   ]
  },
  {
   "cell_type": "markdown",
   "metadata": {},
   "source": [
    "Видим, что ввиду развития сферы, основной интерес представляют данные с 1991 по 2016 года, т.к. там наблюдается самый большой объем выпущенных игр"
   ]
  },
  {
   "cell_type": "markdown",
   "metadata": {},
   "source": [
    "Посмотрим, как менялись продажи по платформам"
   ]
  },
  {
   "cell_type": "code",
   "execution_count": 13,
   "metadata": {},
   "outputs": [
    {
     "data": {
      "image/png": "[encoded data removed]",
      "text/plain": [
       "<Figure size 1080x720 with 1 Axes>"
      ]
     },
     "metadata": {
      "needs_background": "light"
     },
     "output_type": "display_data"
    }
   ],
   "source": [
    "bar_maker('platform', 'sum', \"продажи по платформам\", 'sales_total')"
   ]
  },
  {
   "cell_type": "markdown",
   "metadata": {},
   "source": [
    "<div class=\"alert alert-block alert-success\">\n",
    " \n",
    "### Комментарий ревьюера\n",
    "    \n",
    "#### Успех\n",
    "\n",
    "Рейтинг по сумаарным продажам получен. "
   ]
  },
  {
   "cell_type": "markdown",
   "metadata": {},
   "source": [
    "Будем рассматривать самые популярные платформы - PS2, X360, PS3, WII, DS, PS, GBA, PS4, PSP, PC"
   ]
  },
  {
   "cell_type": "code",
   "execution_count": 14,
   "metadata": {},
   "outputs": [
    {
     "data": {
      "text/plain": [
       "<AxesSubplot:title={'center':'Сравнение по самым большим платформам'}, xlabel='year_of_release'>"
      ]
     },
     "execution_count": 14,
     "metadata": {},
     "output_type": "execute_result"
    },
    {
     "data": {
      "image/png": "[encoded data removed]",
      "text/plain": [
       "<Figure size 1080x360 with 1 Axes>"
      ]
     },
     "metadata": {
      "needs_background": "light"
     },
     "output_type": "display_data"
    }
   ],
   "source": [
    "test = data.query('platform in (\"PS2\", \"X360\", \"PS3\", \"WII\", \"DS\", \"PS\", \"GBA\", \"PS4\", \"PSP\", \"PC\")')\n",
    "target1 = pd.pivot_table(test, index='year_of_release', columns='platform', values='sales_total', aggfunc='sum')\n",
    "target1.plot(figsize = (15,5), title='Сравнение по самым большим платформам')"
   ]
  },
  {
   "cell_type": "markdown",
   "metadata": {},
   "source": [
    "Можно сделать следующие выводы:\n",
    "- разнообразные игровые консоли появляются на рынке, достигают пика примерно через 2.5 года после выхода, а далее идут на спад\n",
    "- новые платформа появляются примерно через 10 лет после выхода предыдущей модели\n",
    "- персональные компьютеры занимают маленькую но стабильную нишу"
   ]
  },
  {
   "cell_type": "markdown",
   "metadata": {},
   "source": [
    "<div class=\"alert alert-block alert-success\">\n",
    " \n",
    "### Комментарий ревьюера\n",
    "    \n",
    "#### Успех\n",
    "\n",
    "По выводу превосходно вышло. "
   ]
  },
  {
   "cell_type": "markdown",
   "metadata": {},
   "source": [
    "За актуальный период возьмем 2013 год - учитываем быстрый тем жизни игровой индустрии"
   ]
  },
  {
   "cell_type": "code",
   "execution_count": 15,
   "metadata": {},
   "outputs": [
    {
     "data": {
      "text/plain": [
       "<AxesSubplot:title={'center':'Сравнение за актуальный период'}, xlabel='year_of_release'>"
      ]
     },
     "execution_count": 15,
     "metadata": {},
     "output_type": "execute_result"
    },
    {
     "data": {
      "image/png": "[encoded data removed]",
      "text/plain": [
       "<Figure size 1080x1080 with 1 Axes>"
      ]
     },
     "metadata": {
      "needs_background": "light"
     },
     "output_type": "display_data"
    }
   ],
   "source": [
    "test2 = data.query('year_of_release >= 2013')\n",
    "target2 = pd.pivot_table(test2, index='year_of_release', columns='platform', values='sales_total', aggfunc='sum')\n",
    "target2.plot(figsize = (15,15), title='Сравнение за актуальный период')"
   ]
  },
  {
   "cell_type": "markdown",
   "metadata": {},
   "source": [
    "<div class=\"alert alert-block alert-danger\">\n",
    " \n",
    "### Комментарий ревьюера\n",
    "    \n",
    "#### Ошибка\n",
    "\n",
    "А тут стоит сделать так, чтобы легенда не перекрывала кривые с данными."
   ]
  },
  {
   "cell_type": "markdown",
   "metadata": {},
   "source": [
    "<div class=\"alert alert-block alert-danger\">\n",
    " \n",
    "### Комментарий ревьюера\n",
    "    \n",
    "#### Ошибка\n",
    "\n",
    "А тут надо сделать чуть иначе. Все же прогноз в крупных компаниях правильно считать за последние 2-3 года. А у тебя сфера видеоигр где все быстро меняется и легко отловать отжившие тренды."
   ]
  },
  {
   "cell_type": "markdown",
   "metadata": {},
   "source": [
    "# **<font color=\"maroon\">увеличил масштаб и скорректировал актуальный период</font>**"
   ]
  },
  {
   "cell_type": "markdown",
   "metadata": {},
   "source": [
    "<div class=\"alert alert-block alert-success\">\n",
    " \n",
    "# Комментарий ревьюера ver.2 \n",
    "    \n",
    "#### Успех\n",
    "    \n",
    "А теперь превосходно получилось"
   ]
  },
  {
   "cell_type": "markdown",
   "metadata": {},
   "source": [
    "Лидеры продаж на конец актуального периода:\n",
    "- PS4;\n",
    "- XOne\n",
    "- 3DS;\n",
    "- PC;\n",
    "- WiiU\n",
    "\n",
    "Также замечается уменьшение срока жизни консолей - PS4 вышла в 2013 году но уже в 2016 идет на спад"
   ]
  },
  {
   "cell_type": "markdown",
   "metadata": {},
   "source": [
    "Построим и рассмотрим «ящики с усами»"
   ]
  },
  {
   "cell_type": "code",
   "execution_count": 16,
   "metadata": {},
   "outputs": [],
   "source": [
    "def boxplot_maker(title=None, query_condition = None, ylims=None):\n",
    "    if query_condition == None:\n",
    "        ax = data.boxplot(column='sales_total', fontsize=25, figsize=(25,10),\n",
    "                                         boxprops=dict(linestyle='-', linewidth=5),\n",
    "                                         medianprops=dict(linestyle='-', linewidth=5),\n",
    "                                         whiskerprops=dict(linestyle='-', linewidth=5),\n",
    "                                         capprops=dict(linestyle='-', linewidth=5), \n",
    "                                         notch=True)\n",
    "    else:\n",
    "        df_query = data.query(query_condition)\n",
    "        by_column = query_condition.split()[0]\n",
    "        ax = df_query.boxplot(column='sales_total', by=by_column, fontsize=25, figsize=(25,10),\n",
    "                                         boxprops=dict(linestyle='-', linewidth=5),\n",
    "                                         medianprops=dict(linestyle='-', linewidth=5),\n",
    "                                         whiskerprops=dict(linestyle='-', linewidth=5),\n",
    "                                         capprops=dict(linestyle='-', linewidth=5),\n",
    "                                         notch=True)\n",
    "        ax.set_xlabel('')\n",
    "        ax.set_title('')\n",
    "    if ylims != None:\n",
    "        ax.set_ylim(ylims)\n",
    "    if title != None:\n",
    "        plt.suptitle(title, y=0.94, fontsize=25, fontweight='bold')"
   ]
  },
  {
   "cell_type": "code",
   "execution_count": 17,
   "metadata": {},
   "outputs": [
    {
     "data": {
      "image/png": "[encoded data removed]",
      "text/plain": [
       "<Figure size 1800x720 with 1 Axes>"
      ]
     },
     "metadata": {
      "needs_background": "light"
     },
     "output_type": "display_data"
    }
   ],
   "source": [
    "boxplot_maker('Boxplot по глобальным продажам игр', ylims=[0,3])"
   ]
  },
  {
   "cell_type": "markdown",
   "metadata": {},
   "source": [
    "В среднем, продажи игр составляют до 1,2 млн долларов. Медиана - 0,2 миллиона долларов"
   ]
  },
  {
   "cell_type": "code",
   "execution_count": 18,
   "metadata": {},
   "outputs": [
    {
     "data": {
      "image/png": "[encoded data removed]",
      "text/plain": [
       "<Figure size 1800x720 with 1 Axes>"
      ]
     },
     "metadata": {
      "needs_background": "light"
     },
     "output_type": "display_data"
    }
   ],
   "source": [
    "boxplot_maker('Boxplot продаж по топовым платформам', query_condition='platform in ([\"PS4\", \"XOne\", \"3DS\", \"PC\", \"WiiU\"])', ylims=[0,3])"
   ]
  },
  {
   "cell_type": "markdown",
   "metadata": {},
   "source": [
    "<div class=\"alert alert-block alert-danger\">\n",
    " \n",
    "### Комментарий ревьюера\n",
    "    \n",
    "#### Ошибка\n",
    "\n",
    "Все же стоило тут оставить хотя бы штук 5 наиболее перспективных платформ актуального периода."
   ]
  },
  {
   "cell_type": "markdown",
   "metadata": {},
   "source": [
    "<div class=\"alert alert-block alert-success\">\n",
    " \n",
    "# Комментарий ревьюера ver.2 \n",
    "    \n",
    "#### Успех\n",
    "    \n",
    "Идеально вышло и тут "
   ]
  },
  {
   "cell_type": "markdown",
   "metadata": {},
   "source": [
    "# **<font color=\"maroon\"> расширил список платформ</font>**"
   ]
  },
  {
   "cell_type": "markdown",
   "metadata": {},
   "source": [
    "Выводы:\n",
    "- медиана примерно на одном уровне - 0,25-0,3, кроме PC - 0.1\n",
    "- верхние границы - PS4 - 1.7, XOne - 1.55, 3DS - 0.75, WiiU 1.2, PC - 0.4"
   ]
  },
  {
   "cell_type": "markdown",
   "metadata": {},
   "source": [
    "Посмотрим как влияют на продажи внутри одной популярной платформы отзывы пользователей и критиков. Будем рассматривать на примере PS4"
   ]
  },
  {
   "cell_type": "code",
   "execution_count": 19,
   "metadata": {},
   "outputs": [],
   "source": [
    "data_ps4 = data[(data['platform'] == 'PS4') & (data['critic_score'] > 0)].copy()"
   ]
  },
  {
   "cell_type": "code",
   "execution_count": 20,
   "metadata": {},
   "outputs": [
    {
     "data": {
      "text/plain": [
       "<AxesSubplot:xlabel='critic_score', ylabel='sales_total'>"
      ]
     },
     "execution_count": 20,
     "metadata": {},
     "output_type": "execute_result"
    },
    {
     "data": {
      "image/png": "[encoded data removed]",
      "text/plain": [
       "<Figure size 720x432 with 1 Axes>"
      ]
     },
     "metadata": {
      "needs_background": "light"
     },
     "output_type": "display_data"
    }
   ],
   "source": [
    "from matplotlib.axes._axes import _log as matplotlib_axes_logger\n",
    "matplotlib_axes_logger.setLevel('ERROR')\n",
    "\n",
    "data_ps4.plot(kind='scatter', x='critic_score', y='sales_total', ec='black', figsize=(10,6))"
   ]
  },
  {
   "cell_type": "markdown",
   "metadata": {},
   "source": [
    "<div class=\"alert alert-block alert-success\">\n",
    " \n",
    "### Комментарий ревьюера\n",
    "    \n",
    "#### Успех\n",
    "\n",
    "Отличный метод использован для показа зависимости на графике. "
   ]
  },
  {
   "cell_type": "markdown",
   "metadata": {},
   "source": [
    "С увеличением рейтинга увеличивается объем продаж"
   ]
  },
  {
   "cell_type": "markdown",
   "metadata": {},
   "source": [
    "Рассмотрим отзовы пользователей"
   ]
  },
  {
   "cell_type": "code",
   "execution_count": 21,
   "metadata": {},
   "outputs": [
    {
     "data": {
      "text/plain": [
       "<AxesSubplot:xlabel='user_score', ylabel='sales_total'>"
      ]
     },
     "execution_count": 21,
     "metadata": {},
     "output_type": "execute_result"
    },
    {
     "data": {
      "image/png": "[encoded data removed]",
      "text/plain": [
       "<Figure size 720x432 with 1 Axes>"
      ]
     },
     "metadata": {
      "needs_background": "light"
     },
     "output_type": "display_data"
    }
   ],
   "source": [
    "data_ps4 = data[(data['platform'] == 'PS4') & (data['user_score'] > 0)].copy()\n",
    "data_ps4.plot(kind='scatter', x='user_score', y='sales_total', ec='black', figsize=(10,6))"
   ]
  },
  {
   "cell_type": "markdown",
   "metadata": {},
   "source": [
    "Можно сделать такой же вывод, но обращаю внимание на увеличение кол-ва выбросов"
   ]
  },
  {
   "cell_type": "markdown",
   "metadata": {},
   "source": [
    "Постороим матрицу корреляции"
   ]
  },
  {
   "cell_type": "code",
   "execution_count": 22,
   "metadata": {},
   "outputs": [
    {
     "data": {
      "text/plain": [
       "<AxesSubplot:>"
      ]
     },
     "execution_count": 22,
     "metadata": {},
     "output_type": "execute_result"
    },
    {
     "data": {
      "image/png": "[encoded data removed]",
      "text/plain": [
       "<Figure size 648x648 with 2 Axes>"
      ]
     },
     "metadata": {
      "needs_background": "light"
     },
     "output_type": "display_data"
    }
   ],
   "source": [
    "plt.figure(figsize=(9,9))\n",
    "sns.heatmap(data_ps4.corr(), annot=True, fmt='.2f', annot_kws={'size':16})"
   ]
  },
  {
   "cell_type": "markdown",
   "metadata": {},
   "source": [
    "Оценка критиков слегка влияет на итоговую вырочку, в то время как оценка пользователей - не влияет"
   ]
  },
  {
   "cell_type": "markdown",
   "metadata": {},
   "source": [
    "Рассмотрим в сравнении с другими топ платформами"
   ]
  },
  {
   "cell_type": "code",
   "execution_count": 23,
   "metadata": {},
   "outputs": [],
   "source": [
    "top_platforms = ['PS4', 'XOne', '3DS']\n",
    "\n",
    "def corr_maker(a):\n",
    "    exp = data[(data['platform'] == a) & (data['user_score'] > 0)].copy()\n",
    "    exp2 = exp[['sales_total' ,'critic_score', 'user_score']]\n",
    "    plt.figure(figsize=(1,3))\n",
    "    sns.heatmap(exp2.corr()[['sales_total']].sort_values(by='sales_total', ascending=False), annot=True, annot_kws={'size':15})\n",
    "    plt.title(a)"
   ]
  },
  {
   "cell_type": "code",
   "execution_count": 24,
   "metadata": {},
   "outputs": [
    {
     "data": {
      "image/png": "[encoded data removed]",
      "text/plain": [
       "<Figure size 72x216 with 2 Axes>"
      ]
     },
     "metadata": {
      "needs_background": "light"
     },
     "output_type": "display_data"
    },
    {
     "data": {
      "image/png": "[encoded data removed]",
      "text/plain": [
       "<Figure size 72x216 with 2 Axes>"
      ]
     },
     "metadata": {
      "needs_background": "light"
     },
     "output_type": "display_data"
    },
    {
     "data": {
      "image/png": "[encoded data removed]",
      "text/plain": [
       "<Figure size 72x216 with 2 Axes>"
      ]
     },
     "metadata": {
      "needs_background": "light"
     },
     "output_type": "display_data"
    }
   ],
   "source": [
    "for i in top_platforms:\n",
    "    corr_maker(i)"
   ]
  },
  {
   "cell_type": "markdown",
   "metadata": {},
   "source": [
    "В случае PS4 и XOne ситуация совпадает - оценки пользователей практически не влияют на выручку, а оценки критиков влияют. Однако в случае 3DS и оценка критиков и пользователей влияют на итоговую выручку"
   ]
  },
  {
   "cell_type": "markdown",
   "metadata": {},
   "source": [
    "<div class=\"alert alert-block alert-success\">\n",
    " \n",
    "### Комментарий ревьюера\n",
    "    \n",
    "#### Успех\n",
    "\n",
    "Выводы на основе данных нескольких платформ выглялядт убедительнее. "
   ]
  },
  {
   "cell_type": "code",
   "execution_count": 25,
   "metadata": {},
   "outputs": [
    {
     "data": {
      "text/html": [
       "<div>\n",
       "<style scoped>\n",
       "    .dataframe tbody tr th:only-of-type {\n",
       "        vertical-align: middle;\n",
       "    }\n",
       "\n",
       "    .dataframe tbody tr th {\n",
       "        vertical-align: top;\n",
       "    }\n",
       "\n",
       "    .dataframe thead th {\n",
       "        text-align: right;\n",
       "    }\n",
       "</style>\n",
       "<table border=\"1\" class=\"dataframe\">\n",
       "  <thead>\n",
       "    <tr style=\"text-align: right;\">\n",
       "      <th></th>\n",
       "      <th>sum</th>\n",
       "      <th>count</th>\n",
       "      <th>mean</th>\n",
       "      <th>median</th>\n",
       "    </tr>\n",
       "    <tr>\n",
       "      <th>genre</th>\n",
       "      <th></th>\n",
       "      <th></th>\n",
       "      <th></th>\n",
       "      <th></th>\n",
       "    </tr>\n",
       "  </thead>\n",
       "  <tbody>\n",
       "    <tr>\n",
       "      <th>Action</th>\n",
       "      <td>1744.17</td>\n",
       "      <td>3369</td>\n",
       "      <td>0.517711</td>\n",
       "      <td>0.19</td>\n",
       "    </tr>\n",
       "    <tr>\n",
       "      <th>Adventure</th>\n",
       "      <td>237.59</td>\n",
       "      <td>1303</td>\n",
       "      <td>0.182341</td>\n",
       "      <td>0.05</td>\n",
       "    </tr>\n",
       "    <tr>\n",
       "      <th>Fighting</th>\n",
       "      <td>447.53</td>\n",
       "      <td>849</td>\n",
       "      <td>0.527126</td>\n",
       "      <td>0.21</td>\n",
       "    </tr>\n",
       "    <tr>\n",
       "      <th>Misc</th>\n",
       "      <td>802.51</td>\n",
       "      <td>1750</td>\n",
       "      <td>0.458577</td>\n",
       "      <td>0.16</td>\n",
       "    </tr>\n",
       "    <tr>\n",
       "      <th>Platform</th>\n",
       "      <td>827.77</td>\n",
       "      <td>888</td>\n",
       "      <td>0.932173</td>\n",
       "      <td>0.27</td>\n",
       "    </tr>\n",
       "    <tr>\n",
       "      <th>Puzzle</th>\n",
       "      <td>242.57</td>\n",
       "      <td>580</td>\n",
       "      <td>0.418224</td>\n",
       "      <td>0.11</td>\n",
       "    </tr>\n",
       "    <tr>\n",
       "      <th>Racing</th>\n",
       "      <td>728.67</td>\n",
       "      <td>1249</td>\n",
       "      <td>0.583403</td>\n",
       "      <td>0.19</td>\n",
       "    </tr>\n",
       "    <tr>\n",
       "      <th>Role-Playing</th>\n",
       "      <td>934.56</td>\n",
       "      <td>1498</td>\n",
       "      <td>0.623872</td>\n",
       "      <td>0.18</td>\n",
       "    </tr>\n",
       "    <tr>\n",
       "      <th>Shooter</th>\n",
       "      <td>1052.45</td>\n",
       "      <td>1323</td>\n",
       "      <td>0.795503</td>\n",
       "      <td>0.24</td>\n",
       "    </tr>\n",
       "    <tr>\n",
       "      <th>Simulation</th>\n",
       "      <td>389.97</td>\n",
       "      <td>873</td>\n",
       "      <td>0.446701</td>\n",
       "      <td>0.15</td>\n",
       "    </tr>\n",
       "    <tr>\n",
       "      <th>Sports</th>\n",
       "      <td>1331.27</td>\n",
       "      <td>2348</td>\n",
       "      <td>0.566980</td>\n",
       "      <td>0.22</td>\n",
       "    </tr>\n",
       "    <tr>\n",
       "      <th>Strategy</th>\n",
       "      <td>174.23</td>\n",
       "      <td>683</td>\n",
       "      <td>0.255095</td>\n",
       "      <td>0.10</td>\n",
       "    </tr>\n",
       "  </tbody>\n",
       "</table>\n",
       "</div>"
      ],
      "text/plain": [
       "                  sum  count      mean  median\n",
       "genre                                         \n",
       "Action        1744.17   3369  0.517711    0.19\n",
       "Adventure      237.59   1303  0.182341    0.05\n",
       "Fighting       447.53    849  0.527126    0.21\n",
       "Misc           802.51   1750  0.458577    0.16\n",
       "Platform       827.77    888  0.932173    0.27\n",
       "Puzzle         242.57    580  0.418224    0.11\n",
       "Racing         728.67   1249  0.583403    0.19\n",
       "Role-Playing   934.56   1498  0.623872    0.18\n",
       "Shooter       1052.45   1323  0.795503    0.24\n",
       "Simulation     389.97    873  0.446701    0.15\n",
       "Sports        1331.27   2348  0.566980    0.22\n",
       "Strategy       174.23    683  0.255095    0.10"
      ]
     },
     "execution_count": 25,
     "metadata": {},
     "output_type": "execute_result"
    }
   ],
   "source": [
    "pivot = data.groupby('genre')['sales_total'].agg(['sum','count','mean','median'])\n",
    "pivot"
   ]
  },
  {
   "cell_type": "markdown",
   "metadata": {},
   "source": [
    "Рассмотрим игры по жанрам"
   ]
  },
  {
   "cell_type": "code",
   "execution_count": 26,
   "metadata": {},
   "outputs": [
    {
     "data": {
      "text/plain": [
       "<matplotlib.legend.Legend at 0x7f6fcac2d310>"
      ]
     },
     "execution_count": 26,
     "metadata": {},
     "output_type": "execute_result"
    },
    {
     "data": {
      "image/png": "[encoded data removed]",
      "text/plain": [
       "<Figure size 1080x360 with 1 Axes>"
      ]
     },
     "metadata": {
      "needs_background": "light"
     },
     "output_type": "display_data"
    }
   ],
   "source": [
    "ax = plt.gca()\n",
    "\n",
    "pivot = data.groupby('genre')['sales_total'].agg(['sum','count','mean','median']).sort_values(by='sum', ascending=False)\n",
    "\n",
    "plot1 = pivot['count']\n",
    "plot1.plot(kind='bar', figsize=(15,5), ec='black', ax=ax, width=0.2, color='Yellow', position=1)\n",
    "\n",
    "plot2 = pivot['sum']\n",
    "plot2.plot(kind='bar', figsize=(15,5), ec='black', ax=ax, width=0.2, color='Green', position=0)\n",
    "\n",
    "ax.legend(['Количество продаж','Общая сумма продаж'])"
   ]
  },
  {
   "cell_type": "markdown",
   "metadata": {},
   "source": [
    "Топ по колву выпущенных игр:\n",
    "- Action;\n",
    "- Sports;\n",
    "- Misc\n",
    "\n",
    "Тоp по выручке:\n",
    "- Action;\n",
    "- Sports;\n",
    "- Shooter\n",
    "\n",
    "Наблюдаем, что самые прибыльные жанры - Action и Sports"
   ]
  },
  {
   "cell_type": "markdown",
   "metadata": {},
   "source": [
    "Низкие продажи:\n",
    "- Strategy;\n",
    "- Adventure;\n",
    "- Puzzle"
   ]
  },
  {
   "cell_type": "markdown",
   "metadata": {},
   "source": [
    "Для более полного анализа, рассмотрим также медиану и среднее значение выручки по жанрам"
   ]
  },
  {
   "cell_type": "code",
   "execution_count": 27,
   "metadata": {},
   "outputs": [
    {
     "data": {
      "text/plain": [
       "<matplotlib.legend.Legend at 0x7f6fcab92250>"
      ]
     },
     "execution_count": 27,
     "metadata": {},
     "output_type": "execute_result"
    },
    {
     "data": {
      "image/png": "[encoded data removed]",
      "text/plain": [
       "<Figure size 1080x360 with 1 Axes>"
      ]
     },
     "metadata": {
      "needs_background": "light"
     },
     "output_type": "display_data"
    }
   ],
   "source": [
    "ax = plt.gca()\n",
    "\n",
    "pivot = pivot.sort_values(by='median', ascending=False)\n",
    "\n",
    "plot3 = pivot['median']\n",
    "plot3.plot(kind='bar', figsize=(15,5), ec='black', ax=ax, width=0.2, color='Yellow', position=1)\n",
    "\n",
    "plot4 = pivot['mean']\n",
    "plot4.plot(kind='bar', figsize=(15,5), ec='black', ax=ax, width=0.2, color='Green', position=0)\n",
    "\n",
    "ax.legend(['Медиана','Средняя'])"
   ]
  },
  {
   "cell_type": "markdown",
   "metadata": {},
   "source": [
    "По показателю медианы, самые успешные жанры это:\n",
    "- platform\n",
    "- shooter\n",
    "- sports\n",
    "\n",
    "По показателю средней, самые успешные жанры это:\n",
    "- platform\n",
    "- shooter\n",
    "- role-playing"
   ]
  },
  {
   "cell_type": "markdown",
   "metadata": {},
   "source": [
    "Можно сделать следующие выводы:\n",
    "- по показателю выручки медианы, самый привлекательный жанр - это платформер\n",
    "- высокие показатели средних говорят, что во многих жанрах есть игры-победители, которые вырываются вперед по сравнению с конкурентами\n",
    "\n",
    "Таким образом, вырисовывается закономерность, что можно как и идти за популярными жанрами, так и стараться сделать выдающийся товар в каком-то конкретном жанре, и повести покупателя за собой"
   ]
  },
  {
   "cell_type": "markdown",
   "metadata": {},
   "source": [
    "<div class=\"alert alert-block alert-danger\">\n",
    " \n",
    "### Комментарий ревьюера\n",
    "    \n",
    "#### Ошибка\n",
    "    \n",
    "Высокие продажи могут быть вызваны не успехом, а просто огромным количеством игр. Вполне могут быть жанры, где игр немного, но при этом продажи сопоставимы с продажами Экшена. Чтобы проверить это, стоит рассмотреть средние или медианные продажи."
   ]
  },
  {
   "cell_type": "markdown",
   "metadata": {},
   "source": [
    "# **<font color=\"maroon\">рассмотрел медианы и средние, сделал выводы</font>**"
   ]
  },
  {
   "cell_type": "markdown",
   "metadata": {},
   "source": [
    "<div class=\"alert alert-block alert-success\">\n",
    " \n",
    "# Комментарий ревьюера ver.2 \n",
    "    \n",
    "#### Успех\n",
    "    \n",
    "Исправлено"
   ]
  },
  {
   "cell_type": "markdown",
   "metadata": {},
   "source": [
    "## Портрет пользователя"
   ]
  },
  {
   "cell_type": "markdown",
   "metadata": {},
   "source": [
    "Рассмотрим следующие вопросы:\n",
    "- Самые популярные платформы (топ-5)\n",
    "- Самые популярные жанры (топ-5)\n",
    "- Влияет ли рейтинг ESRB на продажи в отдельном регионе?"
   ]
  },
  {
   "cell_type": "code",
   "execution_count": 28,
   "metadata": {},
   "outputs": [],
   "source": [
    "def top_in_regions_plot(groupby, region_sales, ax):\n",
    "    pivot = data.groupby(groupby).agg({region_sales: 'sum'}).sort_values(by=region_sales, ascending=False)[:5]\n",
    "    title_dict = {'na_sales': 'North America Sales', 'eu_sales': 'Europe Sales', 'jp_sales': 'Japan Sales'}\n",
    "    color_dict = {'na_sales': 'Yellow', 'eu_sales': 'Red', 'jp_sales': 'Blue'}\n",
    "    plot = pivot.plot(kind='bar', ec='black', title=title_dict[region_sales], ax=axes[ax], \n",
    "                   fontsize=18, color=color_dict, rot=20)\n",
    "    plot.legend(prop={'size':17})\n",
    "    plot.set_xlabel('')\n",
    "    plot.title.set_size(20)"
   ]
  },
  {
   "cell_type": "code",
   "execution_count": 29,
   "metadata": {},
   "outputs": [
    {
     "data": {
      "image/png": "[encoded data removed]",
      "text/plain": [
       "<Figure size 1800x432 with 3 Axes>"
      ]
     },
     "metadata": {
      "needs_background": "light"
     },
     "output_type": "display_data"
    }
   ],
   "source": [
    "fig, axes = plt.subplots(1, 3, figsize=(25,6))\n",
    "\n",
    "top_in_regions_plot('platform', 'na_sales', 0)\n",
    "top_in_regions_plot('platform', 'eu_sales', 1)\n",
    "top_in_regions_plot('platform', 'jp_sales', 2)"
   ]
  },
  {
   "cell_type": "markdown",
   "metadata": {},
   "source": [
    "<div class=\"alert alert-block alert-success\">\n",
    " \n",
    "### Комментарий ревьюера\n",
    "    \n",
    "#### Успех\n",
    "\n",
    "Первичная информция о данных получена. "
   ]
  },
  {
   "cell_type": "markdown",
   "metadata": {},
   "source": [
    "Топы популярности:\n",
    "\n",
    "NA - X360, PS2, Wii\n",
    "\n",
    "EU - PS2, PS3, X360\n",
    "\n",
    "JP - DS, PS, PS2"
   ]
  },
  {
   "cell_type": "code",
   "execution_count": 30,
   "metadata": {},
   "outputs": [
    {
     "data": {
      "image/png": "[encoded data removed]",
      "text/plain": [
       "<Figure size 1800x432 with 3 Axes>"
      ]
     },
     "metadata": {
      "needs_background": "light"
     },
     "output_type": "display_data"
    }
   ],
   "source": [
    "fig, axes = plt.subplots(1, 3, figsize=(25,6))\n",
    "\n",
    "top_in_regions_plot('genre', 'na_sales', 0)\n",
    "top_in_regions_plot('genre', 'eu_sales', 1)\n",
    "top_in_regions_plot('genre', 'jp_sales', 2)"
   ]
  },
  {
   "cell_type": "markdown",
   "metadata": {},
   "source": [
    "Топы популярности жанров:\n",
    "\n",
    "NA - Action, Sports, Shooter\n",
    "\n",
    "EU - Action, Sports, Shooter\n",
    "\n",
    "JP - Role-Playing, Action, Sports"
   ]
  },
  {
   "cell_type": "markdown",
   "metadata": {},
   "source": [
    "<div class=\"alert alert-block alert-success\">\n",
    " \n",
    "### Комментарий ревьюера\n",
    "    \n",
    "#### Успех\n",
    "\n",
    "Япония наиболее уникальна среди регионов. "
   ]
  },
  {
   "cell_type": "markdown",
   "metadata": {},
   "source": [
    "Добавим столбец с рейтингом ESRB и рассмотрим графики"
   ]
  },
  {
   "cell_type": "code",
   "execution_count": 31,
   "metadata": {},
   "outputs": [],
   "source": [
    "ESRB_dict = {'E': 'Для всех', 'M': '> 17 лет', 'T': '13-19 лет', 'E10+': '>10 лет', 'K-A': 'Для всех'}\n",
    "data['ESRB_description'] = data[data['rating'].notnull()]['rating'].map(ESRB_dict)"
   ]
  },
  {
   "cell_type": "code",
   "execution_count": 32,
   "metadata": {},
   "outputs": [
    {
     "data": {
      "image/png": "[encoded data removed]",
      "text/plain": [
       "<Figure size 1800x432 with 3 Axes>"
      ]
     },
     "metadata": {
      "needs_background": "light"
     },
     "output_type": "display_data"
    }
   ],
   "source": [
    "fig, axes = plt.subplots(1, 3, figsize=(25,6))\n",
    "\n",
    "top_in_regions_plot('ESRB_description', 'na_sales', 0)\n",
    "top_in_regions_plot('ESRB_description', 'eu_sales', 1)\n",
    "top_in_regions_plot('ESRB_description', 'jp_sales', 2)"
   ]
  },
  {
   "cell_type": "markdown",
   "metadata": {},
   "source": [
    "Топы возрастных рейтингов:\n",
    "\n",
    "NA - Для всех, 13-19 лет, больше 17 лет\n",
    "\n",
    "EU - Для всех, больше 17 лет, 13-19 лет \n",
    "\n",
    "JP - Для всех, 13-19 лет, больше 17 лет"
   ]
  },
  {
   "cell_type": "markdown",
   "metadata": {},
   "source": [
    "<div class=\"alert alert-block alert-success\">\n",
    " \n",
    "### Комментарий ревьюера\n",
    "    \n",
    "#### Успех\n",
    "\n",
    "Рассмотрев каждый из регионов мы пришли к выводу, что все они имеют свою специфику. "
   ]
  },
  {
   "cell_type": "markdown",
   "metadata": {},
   "source": [
    "## Проверка гипотез"
   ]
  },
  {
   "cell_type": "markdown",
   "metadata": {},
   "source": [
    "Рассмотрим следующие гипотезы:\n",
    "- Средние пользовательские рейтинги платформ Xbox One и PC одинаковые;\n",
    "- Средние пользовательские рейтинги жанров Action (англ. «действие», экшен-игры) и Sports (англ. «спортивные соревнования») разные.\n",
    "\n",
    "alpha=0.05\n",
    "Для проверки обеих гипотез будем использовать t-критерий Стьюдента, т.к. в обоих случаях выборки независимы между собой."
   ]
  },
  {
   "cell_type": "markdown",
   "metadata": {},
   "source": [
    "#### Гипотеза 1 - Средние пользовательские рейтинги платформ Xbox One и PC одинаковые;"
   ]
  },
  {
   "cell_type": "markdown",
   "metadata": {},
   "source": [
    "нулевая гипотеза - средние пользовательские рейтинги платформ Xbox One и PC одинаковые.\n",
    "\n",
    "альтернативная гипотеза - средние пользовательские рейтинги платформ Xbox One и PC отличаются между собой."
   ]
  },
  {
   "cell_type": "code",
   "execution_count": 33,
   "metadata": {},
   "outputs": [
    {
     "name": "stdout",
     "output_type": "stream",
     "text": [
      "Отвергаем нулевую гипотезу\n",
      "1.3896188023184886e-05\n"
     ]
    }
   ],
   "source": [
    "alpha = 0.05\n",
    "xbox_one_ratings = data[(data['platform'] == 'XOne') & (data['user_score'] > 0)]['user_score']\n",
    "pc_ratings = data[(data['platform'] == 'PC') & (data['user_score'] > 0)]['user_score']\n",
    "results = ttest_ind(xbox_one_ratings, pc_ratings)\n",
    "\n",
    "if results.pvalue < alpha:\n",
    "    print('Отвергаем нулевую гипотезу')\n",
    "else:\n",
    "    print('Не получилось отвергнуть нулевую гипотезу') \n",
    "    \n",
    "print(results.pvalue)"
   ]
  },
  {
   "cell_type": "markdown",
   "metadata": {},
   "source": [
    "Верно следующее утверждение: средние пользовательские рейтинги платформ Xbox One и PC отличаются между собой."
   ]
  },
  {
   "cell_type": "markdown",
   "metadata": {},
   "source": [
    "<div class=\"alert alert-block alert-success\">\n",
    " \n",
    "### Комментарий ревьюера\n",
    "    \n",
    "#### Успех\n",
    "\n",
    "Гипотезы сформулированы и верно определен метод проверки. С выводами согласен "
   ]
  },
  {
   "cell_type": "markdown",
   "metadata": {},
   "source": [
    "#### Гипотеза 2 - редние пользовательские рейтинги жанров Action (англ. «действие», экшен-игры) и Sports (англ. «спортивные соревнования») разные."
   ]
  },
  {
   "cell_type": "markdown",
   "metadata": {},
   "source": [
    "нулевая гипотеза - средние пользовательские рейтинги жанров Action и Sports одинаковые.\n",
    "\n",
    "альтернативная гипотеза - средние пользовательские рейтинги жанров Action и Sports отличаются между собой."
   ]
  },
  {
   "cell_type": "code",
   "execution_count": 34,
   "metadata": {},
   "outputs": [
    {
     "name": "stdout",
     "output_type": "stream",
     "text": [
      "Не получилось отвергнуть нулевую гипотезу\n"
     ]
    }
   ],
   "source": [
    "action_ratings = data[(data['genre'] == 'Action') & (data['user_score'] > 0)]['user_score']\n",
    "pc_ratings = data[(data['genre'] == 'Sports') & (data['user_score'] > 0)]['user_score']\n",
    "results = ttest_ind(action_ratings, pc_ratings)\n",
    "\n",
    "if results.pvalue < alpha:\n",
    "    print('Отвергаем нулевую гипотезу')\n",
    "else:\n",
    "    print('Не получилось отвергнуть нулевую гипотезу') "
   ]
  },
  {
   "cell_type": "markdown",
   "metadata": {},
   "source": [
    "Средние пользовательские рейтинги жанров Action и Sports одинаковые"
   ]
  },
  {
   "cell_type": "markdown",
   "metadata": {},
   "source": [
    "<div class=\"alert alert-block alert-success\">\n",
    " \n",
    "### Комментарий ревьюера\n",
    "    \n",
    "#### Успех\n",
    "\n",
    "Аналогично"
   ]
  },
  {
   "cell_type": "markdown",
   "metadata": {},
   "source": [
    "## Общий вывод"
   ]
  },
  {
   "cell_type": "markdown",
   "metadata": {},
   "source": [
    "Наблюдаются следующие тенденции:\n",
    "- Самые популярные жанры - Action и Sports\n",
    "- Самые популярные платформы - стационарные игровые консоли\n",
    "- Наблюдается тренд сокращения \"срока жизни\" игровых консолей\n",
    "- оценки критиков влияют на сборы, в то время как оценки пользователей нет\n",
    "\n",
    "Таким образом, предполагаемую стратегию можно разбить на пункта \"рабочая лошадь\" и \"фишка\"\n",
    "\n",
    "Рабочая лошадь - основные деньги индустрии находятся в играх, разработанных специально для новых платформ-гигантов индустрии (Playstation, Xbox). Для капитализации этого тренда, необходимо сосредоточиться на больших релизах для этих платформ в жанрах Action и Sports. Большие объемы продаж данных жанров помогут отбить траты на маркетинговые компании\n",
    "\n",
    "Фишка - рассмотрев рынок Азии, можно обратить внимание, что жанр Roleplaying является весьма популряным в этом регионе. Можно рассмотреть стратегию, при которой компания не будет пытаться ехать на волне существующих трендов (что рискованно, т.к. рынок уже разобран гигантами), а попытаться сделать ставку на что-то новое в еще не супер популярном жанре (\"roleplaying\", \"platform\"). Это рискованная стратегия, так как нету гарантий, однако если удастться создать качественный продукт и правильно его рекламировать, можно будет выкроить для себя нишу с новыми верными потребителями"
   ]
  },
  {
   "cell_type": "markdown",
   "metadata": {},
   "source": [
    "<div class=\"alert alert-block alert-success\">\n",
    " \n",
    "### Комментарий ревьюера\n",
    "    \n",
    "#### Успех\n",
    "\n",
    "Итоговый вывод стал отличным дополнением к проекту. С таким выводом мы тоно сможем составить прогноз продаж на 2017 год. "
   ]
  },
  {
   "cell_type": "markdown",
   "metadata": {},
   "source": [
    "<div class=\"alert alert-block alert-info\">\n",
    "\n",
    "## Итоговый комментарии от ревьюера:\n",
    "    \n",
    "#### Успех\n",
    "\n",
    "Благодарю тебя за выполнение проекта. Мне очень понравилось, как ты разобрался с предобработкой данных. Твои выводы вполне логичны и все на своих местах. Ты подбираешь правильные методы для анализа и строишь хорошие графики. Однако, в проекте есть несколько замечаний, которые надо исправить:\n",
    "\n",
    "* Добавить причины появления пропусков. \n",
    "* Сделать поиск дубликатов.\n",
    "* Промежуточные выводы добавить.\n",
    "* Актуальный период подправить. \n",
    "* Ящик с усами доработать.\n",
    "* Найти и определить самый успешный жанр по медиане или среднему. \n",
    "       \n",
    "Еще я оставил рекомендации. Очень надеюсь, что ты учтешь их в этом и последующих проектах.\n",
    "       \n",
    "Жду проект после доработки. Уверен, ты справишься.\n",
    "</div>"
   ]
  }
 ],
 "metadata": {
  "ExecuteTimeLog": [
   {
    "duration": 1472,
    "start_time": "2024-07-14T06:49:49.571Z"
   },
   {
    "duration": 203,
    "start_time": "2024-07-14T06:50:24.851Z"
   },
   {
    "duration": 16,
    "start_time": "2024-07-14T06:50:37.773Z"
   },
   {
    "duration": 4,
    "start_time": "2024-07-14T06:57:05.481Z"
   },
   {
    "duration": 8,
    "start_time": "2024-07-14T06:57:56.378Z"
   },
   {
    "duration": 1189,
    "start_time": "2024-07-14T07:00:14.136Z"
   },
   {
    "duration": 76,
    "start_time": "2024-07-14T07:00:15.327Z"
   },
   {
    "duration": 16,
    "start_time": "2024-07-14T07:00:15.405Z"
   },
   {
    "duration": 12,
    "start_time": "2024-07-14T07:00:15.423Z"
   },
   {
    "duration": 9,
    "start_time": "2024-07-14T07:00:15.437Z"
   },
   {
    "duration": 6,
    "start_time": "2024-07-14T07:02:17.731Z"
   },
   {
    "duration": 8,
    "start_time": "2024-07-14T07:04:32.357Z"
   },
   {
    "duration": 4,
    "start_time": "2024-07-14T07:06:53.061Z"
   },
   {
    "duration": 4,
    "start_time": "2024-07-14T07:07:06.318Z"
   },
   {
    "duration": 432,
    "start_time": "2024-07-14T07:07:15.722Z"
   },
   {
    "duration": 317,
    "start_time": "2024-07-14T07:11:32.021Z"
   },
   {
    "duration": 9,
    "start_time": "2024-07-14T07:13:15.619Z"
   },
   {
    "duration": 27,
    "start_time": "2024-07-14T07:13:20.177Z"
   },
   {
    "duration": 9,
    "start_time": "2024-07-14T07:16:18.898Z"
   },
   {
    "duration": 12,
    "start_time": "2024-07-14T07:16:30.598Z"
   },
   {
    "duration": 6,
    "start_time": "2024-07-14T07:16:33.229Z"
   },
   {
    "duration": 10,
    "start_time": "2024-07-14T07:16:57.298Z"
   },
   {
    "duration": 8,
    "start_time": "2024-07-14T07:16:58.736Z"
   },
   {
    "duration": 109,
    "start_time": "2024-07-14T07:17:21.192Z"
   },
   {
    "duration": 11,
    "start_time": "2024-07-14T07:17:33.930Z"
   },
   {
    "duration": 1881,
    "start_time": "2024-07-14T07:17:38.688Z"
   },
   {
    "duration": 1984,
    "start_time": "2024-07-14T07:20:05.492Z"
   },
   {
    "duration": 8,
    "start_time": "2024-07-14T07:22:11.030Z"
   },
   {
    "duration": 10,
    "start_time": "2024-07-14T07:22:12.462Z"
   },
   {
    "duration": 10,
    "start_time": "2024-07-14T07:22:26.084Z"
   },
   {
    "duration": 1271,
    "start_time": "2024-07-14T07:23:03.612Z"
   },
   {
    "duration": 71,
    "start_time": "2024-07-14T07:23:04.885Z"
   },
   {
    "duration": 14,
    "start_time": "2024-07-14T07:23:04.958Z"
   },
   {
    "duration": 9,
    "start_time": "2024-07-14T07:23:04.974Z"
   },
   {
    "duration": 9,
    "start_time": "2024-07-14T07:23:04.985Z"
   },
   {
    "duration": 4,
    "start_time": "2024-07-14T07:23:04.995Z"
   },
   {
    "duration": 6,
    "start_time": "2024-07-14T07:23:05.001Z"
   },
   {
    "duration": 4,
    "start_time": "2024-07-14T07:23:05.008Z"
   },
   {
    "duration": 366,
    "start_time": "2024-07-14T07:23:05.014Z"
   },
   {
    "duration": 311,
    "start_time": "2024-07-14T07:23:05.382Z"
   },
   {
    "duration": 11,
    "start_time": "2024-07-14T07:23:05.694Z"
   },
   {
    "duration": 4,
    "start_time": "2024-07-14T07:23:09.784Z"
   },
   {
    "duration": 1198,
    "start_time": "2024-07-14T07:23:26.214Z"
   },
   {
    "duration": 74,
    "start_time": "2024-07-14T07:23:27.414Z"
   },
   {
    "duration": 15,
    "start_time": "2024-07-14T07:23:27.491Z"
   },
   {
    "duration": 12,
    "start_time": "2024-07-14T07:23:27.508Z"
   },
   {
    "duration": 18,
    "start_time": "2024-07-14T07:23:27.521Z"
   },
   {
    "duration": 5,
    "start_time": "2024-07-14T07:23:27.540Z"
   },
   {
    "duration": 6,
    "start_time": "2024-07-14T07:23:27.547Z"
   },
   {
    "duration": 9,
    "start_time": "2024-07-14T07:23:27.554Z"
   },
   {
    "duration": 359,
    "start_time": "2024-07-14T07:23:27.565Z"
   },
   {
    "duration": 317,
    "start_time": "2024-07-14T07:23:27.926Z"
   },
   {
    "duration": 9,
    "start_time": "2024-07-14T07:23:28.245Z"
   },
   {
    "duration": 25,
    "start_time": "2024-07-14T07:23:30.760Z"
   },
   {
    "duration": 34,
    "start_time": "2024-07-14T07:23:41.999Z"
   },
   {
    "duration": 34,
    "start_time": "2024-07-14T07:24:33.416Z"
   },
   {
    "duration": 245,
    "start_time": "2024-07-14T07:24:47.679Z"
   },
   {
    "duration": 287,
    "start_time": "2024-07-14T07:25:03.821Z"
   },
   {
    "duration": 316,
    "start_time": "2024-07-14T07:25:08.720Z"
   },
   {
    "duration": 1173,
    "start_time": "2024-07-14T07:25:57.437Z"
   },
   {
    "duration": 73,
    "start_time": "2024-07-14T07:25:58.612Z"
   },
   {
    "duration": 18,
    "start_time": "2024-07-14T07:25:58.687Z"
   },
   {
    "duration": 16,
    "start_time": "2024-07-14T07:25:58.707Z"
   },
   {
    "duration": 24,
    "start_time": "2024-07-14T07:25:58.725Z"
   },
   {
    "duration": 26,
    "start_time": "2024-07-14T07:25:58.751Z"
   },
   {
    "duration": 23,
    "start_time": "2024-07-14T07:25:58.779Z"
   },
   {
    "duration": 34,
    "start_time": "2024-07-14T07:25:58.803Z"
   },
   {
    "duration": 364,
    "start_time": "2024-07-14T07:25:58.839Z"
   },
   {
    "duration": 325,
    "start_time": "2024-07-14T07:25:59.205Z"
   },
   {
    "duration": 301,
    "start_time": "2024-07-14T07:25:59.531Z"
   },
   {
    "duration": 275,
    "start_time": "2024-07-14T07:31:38.118Z"
   },
   {
    "duration": 1224,
    "start_time": "2024-07-14T07:31:42.924Z"
   },
   {
    "duration": 77,
    "start_time": "2024-07-14T07:31:44.150Z"
   },
   {
    "duration": 19,
    "start_time": "2024-07-14T07:31:44.229Z"
   },
   {
    "duration": 3,
    "start_time": "2024-07-14T07:31:44.250Z"
   },
   {
    "duration": 26,
    "start_time": "2024-07-14T07:31:44.256Z"
   },
   {
    "duration": 5,
    "start_time": "2024-07-14T07:31:44.284Z"
   },
   {
    "duration": 44,
    "start_time": "2024-07-14T07:31:44.291Z"
   },
   {
    "duration": 11,
    "start_time": "2024-07-14T07:31:44.337Z"
   },
   {
    "duration": 343,
    "start_time": "2024-07-14T07:31:44.350Z"
   },
   {
    "duration": 313,
    "start_time": "2024-07-14T07:31:44.696Z"
   },
   {
    "duration": 331,
    "start_time": "2024-07-14T07:31:45.010Z"
   },
   {
    "duration": 246,
    "start_time": "2024-07-14T07:32:26.967Z"
   },
   {
    "duration": 356,
    "start_time": "2024-07-14T07:33:44.484Z"
   },
   {
    "duration": 375,
    "start_time": "2024-07-14T07:45:41.620Z"
   },
   {
    "duration": 437,
    "start_time": "2024-07-14T07:45:56.520Z"
   },
   {
    "duration": 260,
    "start_time": "2024-07-14T07:46:22.670Z"
   },
   {
    "duration": 73,
    "start_time": "2024-07-14T07:46:59.304Z"
   },
   {
    "duration": 3,
    "start_time": "2024-07-14T07:47:19.193Z"
   },
   {
    "duration": 332,
    "start_time": "2024-07-14T07:47:20.957Z"
   },
   {
    "duration": 301,
    "start_time": "2024-07-14T07:47:40.992Z"
   },
   {
    "duration": 6,
    "start_time": "2024-07-14T07:49:14.686Z"
   },
   {
    "duration": 110,
    "start_time": "2024-07-14T07:49:25.499Z"
   },
   {
    "duration": 6,
    "start_time": "2024-07-14T07:49:34.044Z"
   },
   {
    "duration": 208,
    "start_time": "2024-07-14T07:49:35.883Z"
   },
   {
    "duration": 207,
    "start_time": "2024-07-14T07:49:54.341Z"
   },
   {
    "duration": 13,
    "start_time": "2024-07-14T07:53:51.293Z"
   },
   {
    "duration": 7,
    "start_time": "2024-07-14T07:54:01.936Z"
   },
   {
    "duration": 277,
    "start_time": "2024-07-14T07:54:04.477Z"
   },
   {
    "duration": 8,
    "start_time": "2024-07-14T08:22:33.276Z"
   },
   {
    "duration": 178,
    "start_time": "2024-07-14T08:23:11.892Z"
   },
   {
    "duration": 203,
    "start_time": "2024-07-14T08:24:29.552Z"
   },
   {
    "duration": 843,
    "start_time": "2024-07-14T08:25:55.993Z"
   },
   {
    "duration": 220,
    "start_time": "2024-07-14T08:29:37.409Z"
   },
   {
    "duration": 277,
    "start_time": "2024-07-14T08:29:50.406Z"
   },
   {
    "duration": 283,
    "start_time": "2024-07-14T08:30:06.082Z"
   },
   {
    "duration": 1604,
    "start_time": "2024-07-14T08:30:34.276Z"
   },
   {
    "duration": 1614,
    "start_time": "2024-07-14T08:31:07.791Z"
   },
   {
    "duration": 410,
    "start_time": "2024-07-14T08:31:31.401Z"
   },
   {
    "duration": 1726,
    "start_time": "2024-07-14T08:31:38.589Z"
   },
   {
    "duration": 358,
    "start_time": "2024-07-14T08:32:04.431Z"
   },
   {
    "duration": 302,
    "start_time": "2024-07-14T08:32:08.859Z"
   },
   {
    "duration": 286,
    "start_time": "2024-07-14T08:32:12.733Z"
   },
   {
    "duration": 1316,
    "start_time": "2024-07-14T08:32:17.684Z"
   },
   {
    "duration": 1370,
    "start_time": "2024-07-14T08:33:01.058Z"
   },
   {
    "duration": 4,
    "start_time": "2024-07-14T08:35:49.259Z"
   },
   {
    "duration": 854,
    "start_time": "2024-07-14T08:36:16.336Z"
   },
   {
    "duration": 760,
    "start_time": "2024-07-14T08:36:27.327Z"
   },
   {
    "duration": 5,
    "start_time": "2024-07-14T08:36:47.442Z"
   },
   {
    "duration": 117,
    "start_time": "2024-07-14T08:36:50.645Z"
   },
   {
    "duration": 4,
    "start_time": "2024-07-14T08:37:24.359Z"
   },
   {
    "duration": 791,
    "start_time": "2024-07-14T08:37:26.411Z"
   },
   {
    "duration": 150,
    "start_time": "2024-07-14T08:40:59.586Z"
   },
   {
    "duration": 401,
    "start_time": "2024-07-14T08:41:05.829Z"
   },
   {
    "duration": 318,
    "start_time": "2024-07-14T08:41:14.952Z"
   },
   {
    "duration": 296,
    "start_time": "2024-07-14T08:41:33.249Z"
   },
   {
    "duration": 176,
    "start_time": "2024-07-14T08:41:47.233Z"
   },
   {
    "duration": 314,
    "start_time": "2024-07-14T08:41:53.620Z"
   },
   {
    "duration": 5,
    "start_time": "2024-07-14T08:46:39.473Z"
   },
   {
    "duration": 415,
    "start_time": "2024-07-14T08:46:44.075Z"
   },
   {
    "duration": 5,
    "start_time": "2024-07-14T08:47:15.931Z"
   },
   {
    "duration": 487,
    "start_time": "2024-07-14T08:47:17.860Z"
   },
   {
    "duration": 4,
    "start_time": "2024-07-14T08:47:38.042Z"
   },
   {
    "duration": 466,
    "start_time": "2024-07-14T08:47:39.438Z"
   },
   {
    "duration": 579,
    "start_time": "2024-07-14T09:01:34.548Z"
   },
   {
    "duration": 9,
    "start_time": "2024-07-14T09:02:44.127Z"
   },
   {
    "duration": 508,
    "start_time": "2024-07-14T09:02:52.333Z"
   },
   {
    "duration": 10,
    "start_time": "2024-07-14T09:04:11.552Z"
   },
   {
    "duration": 453,
    "start_time": "2024-07-14T09:04:13.072Z"
   },
   {
    "duration": 12,
    "start_time": "2024-07-14T09:13:11.755Z"
   },
   {
    "duration": 67,
    "start_time": "2024-07-14T09:13:21.257Z"
   },
   {
    "duration": 13,
    "start_time": "2024-07-14T09:16:47.325Z"
   },
   {
    "duration": 11,
    "start_time": "2024-07-14T09:16:51.011Z"
   },
   {
    "duration": 16,
    "start_time": "2024-07-14T09:16:55.968Z"
   },
   {
    "duration": 12,
    "start_time": "2024-07-14T09:20:25.098Z"
   },
   {
    "duration": 11,
    "start_time": "2024-07-14T09:20:44.740Z"
   },
   {
    "duration": 1279,
    "start_time": "2024-07-14T09:21:53.778Z"
   },
   {
    "duration": 85,
    "start_time": "2024-07-14T09:21:55.060Z"
   },
   {
    "duration": 15,
    "start_time": "2024-07-14T09:21:55.147Z"
   },
   {
    "duration": 3,
    "start_time": "2024-07-14T09:21:55.163Z"
   },
   {
    "duration": 22,
    "start_time": "2024-07-14T09:21:55.168Z"
   },
   {
    "duration": 12,
    "start_time": "2024-07-14T09:21:55.193Z"
   },
   {
    "duration": 6,
    "start_time": "2024-07-14T09:21:55.207Z"
   },
   {
    "duration": 5,
    "start_time": "2024-07-14T09:21:55.214Z"
   },
   {
    "duration": 381,
    "start_time": "2024-07-14T09:21:55.220Z"
   },
   {
    "duration": 313,
    "start_time": "2024-07-14T09:21:55.603Z"
   },
   {
    "duration": 330,
    "start_time": "2024-07-14T09:21:55.918Z"
   },
   {
    "duration": 364,
    "start_time": "2024-07-14T09:21:56.251Z"
   },
   {
    "duration": 7,
    "start_time": "2024-07-14T09:21:56.617Z"
   },
   {
    "duration": 239,
    "start_time": "2024-07-14T09:21:56.628Z"
   },
   {
    "duration": 325,
    "start_time": "2024-07-14T09:21:56.870Z"
   },
   {
    "duration": 6,
    "start_time": "2024-07-14T09:21:57.197Z"
   },
   {
    "duration": 176,
    "start_time": "2024-07-14T09:21:57.204Z"
   },
   {
    "duration": 170,
    "start_time": "2024-07-14T09:21:57.381Z"
   },
   {
    "duration": 768,
    "start_time": "2024-07-14T09:21:57.553Z"
   },
   {
    "duration": 5,
    "start_time": "2024-07-14T09:21:58.323Z"
   },
   {
    "duration": 873,
    "start_time": "2024-07-14T09:21:58.329Z"
   },
   {
    "duration": 261,
    "start_time": "2024-07-14T09:21:59.203Z"
   },
   {
    "duration": 4,
    "start_time": "2024-07-14T09:21:59.466Z"
   },
   {
    "duration": 445,
    "start_time": "2024-07-14T09:21:59.472Z"
   },
   {
    "duration": 533,
    "start_time": "2024-07-14T09:21:59.920Z"
   },
   {
    "duration": 9,
    "start_time": "2024-07-14T09:22:00.455Z"
   },
   {
    "duration": 488,
    "start_time": "2024-07-14T09:22:00.465Z"
   },
   {
    "duration": 12,
    "start_time": "2024-07-14T09:22:00.954Z"
   },
   {
    "duration": 24,
    "start_time": "2024-07-14T09:22:00.968Z"
   },
   {
    "duration": 1195,
    "start_time": "2024-07-14T09:34:46.116Z"
   },
   {
    "duration": 73,
    "start_time": "2024-07-14T09:34:47.313Z"
   },
   {
    "duration": 15,
    "start_time": "2024-07-14T09:34:47.388Z"
   },
   {
    "duration": 8,
    "start_time": "2024-07-14T09:34:47.405Z"
   },
   {
    "duration": 9,
    "start_time": "2024-07-14T09:34:47.415Z"
   },
   {
    "duration": 5,
    "start_time": "2024-07-14T09:34:47.426Z"
   },
   {
    "duration": 10,
    "start_time": "2024-07-14T09:34:47.432Z"
   },
   {
    "duration": 4,
    "start_time": "2024-07-14T09:34:47.444Z"
   },
   {
    "duration": 378,
    "start_time": "2024-07-14T09:34:47.450Z"
   },
   {
    "duration": 316,
    "start_time": "2024-07-14T09:34:47.829Z"
   },
   {
    "duration": 301,
    "start_time": "2024-07-14T09:34:48.147Z"
   },
   {
    "duration": 346,
    "start_time": "2024-07-14T09:34:48.450Z"
   },
   {
    "duration": 6,
    "start_time": "2024-07-14T09:34:48.798Z"
   },
   {
    "duration": 227,
    "start_time": "2024-07-14T09:34:48.806Z"
   },
   {
    "duration": 332,
    "start_time": "2024-07-14T09:34:49.034Z"
   },
   {
    "duration": 15,
    "start_time": "2024-07-14T09:34:49.367Z"
   },
   {
    "duration": 168,
    "start_time": "2024-07-14T09:34:49.384Z"
   },
   {
    "duration": 162,
    "start_time": "2024-07-14T09:34:49.554Z"
   },
   {
    "duration": 695,
    "start_time": "2024-07-14T09:34:49.717Z"
   },
   {
    "duration": 4,
    "start_time": "2024-07-14T09:34:50.414Z"
   },
   {
    "duration": 824,
    "start_time": "2024-07-14T09:34:50.420Z"
   },
   {
    "duration": 264,
    "start_time": "2024-07-14T09:34:51.245Z"
   },
   {
    "duration": 4,
    "start_time": "2024-07-14T09:34:51.511Z"
   },
   {
    "duration": 457,
    "start_time": "2024-07-14T09:34:51.517Z"
   },
   {
    "duration": 513,
    "start_time": "2024-07-14T09:34:51.981Z"
   },
   {
    "duration": 11,
    "start_time": "2024-07-14T09:34:52.496Z"
   },
   {
    "duration": 453,
    "start_time": "2024-07-14T09:34:52.508Z"
   },
   {
    "duration": 19,
    "start_time": "2024-07-14T09:34:52.963Z"
   },
   {
    "duration": 11,
    "start_time": "2024-07-14T09:34:52.984Z"
   },
   {
    "duration": 1619,
    "start_time": "2024-07-14T09:35:07.667Z"
   },
   {
    "duration": 74,
    "start_time": "2024-07-14T09:35:09.288Z"
   },
   {
    "duration": 15,
    "start_time": "2024-07-14T09:35:09.363Z"
   },
   {
    "duration": 4,
    "start_time": "2024-07-14T09:35:09.380Z"
   },
   {
    "duration": 9,
    "start_time": "2024-07-14T09:35:09.386Z"
   },
   {
    "duration": 4,
    "start_time": "2024-07-14T09:35:09.397Z"
   },
   {
    "duration": 6,
    "start_time": "2024-07-14T09:35:09.402Z"
   },
   {
    "duration": 4,
    "start_time": "2024-07-14T09:35:09.410Z"
   },
   {
    "duration": 374,
    "start_time": "2024-07-14T09:35:09.416Z"
   },
   {
    "duration": 361,
    "start_time": "2024-07-14T09:35:09.792Z"
   },
   {
    "duration": 293,
    "start_time": "2024-07-14T09:35:10.155Z"
   },
   {
    "duration": 350,
    "start_time": "2024-07-14T09:35:10.450Z"
   },
   {
    "duration": 7,
    "start_time": "2024-07-14T09:35:10.801Z"
   },
   {
    "duration": 229,
    "start_time": "2024-07-14T09:35:10.809Z"
   },
   {
    "duration": 311,
    "start_time": "2024-07-14T09:35:11.039Z"
   },
   {
    "duration": 6,
    "start_time": "2024-07-14T09:35:11.352Z"
   },
   {
    "duration": 180,
    "start_time": "2024-07-14T09:35:11.360Z"
   },
   {
    "duration": 176,
    "start_time": "2024-07-14T09:35:11.541Z"
   },
   {
    "duration": 744,
    "start_time": "2024-07-14T09:35:11.719Z"
   },
   {
    "duration": 5,
    "start_time": "2024-07-14T09:35:12.465Z"
   },
   {
    "duration": 817,
    "start_time": "2024-07-14T09:35:12.482Z"
   },
   {
    "duration": 274,
    "start_time": "2024-07-14T09:35:13.301Z"
   },
   {
    "duration": 7,
    "start_time": "2024-07-14T09:35:13.577Z"
   },
   {
    "duration": 483,
    "start_time": "2024-07-14T09:35:13.586Z"
   },
   {
    "duration": 505,
    "start_time": "2024-07-14T09:35:14.071Z"
   },
   {
    "duration": 12,
    "start_time": "2024-07-14T09:35:14.578Z"
   },
   {
    "duration": 432,
    "start_time": "2024-07-14T09:35:14.592Z"
   },
   {
    "duration": 11,
    "start_time": "2024-07-14T09:35:15.027Z"
   },
   {
    "duration": 47,
    "start_time": "2024-07-14T09:35:15.040Z"
   },
   {
    "duration": 1348,
    "start_time": "2024-07-14T16:41:39.832Z"
   },
   {
    "duration": 202,
    "start_time": "2024-07-14T16:41:41.182Z"
   },
   {
    "duration": 23,
    "start_time": "2024-07-14T16:41:41.386Z"
   },
   {
    "duration": 4,
    "start_time": "2024-07-14T16:41:41.411Z"
   },
   {
    "duration": 6,
    "start_time": "2024-07-14T16:41:44.973Z"
   },
   {
    "duration": 11,
    "start_time": "2024-07-14T16:48:02.745Z"
   },
   {
    "duration": 15,
    "start_time": "2024-07-14T16:48:13.065Z"
   },
   {
    "duration": 4,
    "start_time": "2024-07-14T16:48:23.872Z"
   },
   {
    "duration": 13,
    "start_time": "2024-07-14T16:48:35.006Z"
   },
   {
    "duration": 6,
    "start_time": "2024-07-14T16:49:00.213Z"
   },
   {
    "duration": 15,
    "start_time": "2024-07-14T16:49:02.856Z"
   },
   {
    "duration": 16,
    "start_time": "2024-07-14T17:04:49.279Z"
   },
   {
    "duration": 16,
    "start_time": "2024-07-14T17:04:56.501Z"
   },
   {
    "duration": 24,
    "start_time": "2024-07-14T17:05:35.275Z"
   },
   {
    "duration": 63,
    "start_time": "2024-07-14T17:06:13.980Z"
   },
   {
    "duration": 116,
    "start_time": "2024-07-14T17:06:22.026Z"
   },
   {
    "duration": 80,
    "start_time": "2024-07-14T17:06:34.827Z"
   },
   {
    "duration": 29,
    "start_time": "2024-07-14T17:07:24.203Z"
   },
   {
    "duration": 1165,
    "start_time": "2024-07-14T17:12:28.800Z"
   },
   {
    "duration": 71,
    "start_time": "2024-07-14T17:12:29.967Z"
   },
   {
    "duration": 18,
    "start_time": "2024-07-14T17:12:30.040Z"
   },
   {
    "duration": 43,
    "start_time": "2024-07-14T17:12:30.060Z"
   },
   {
    "duration": 57,
    "start_time": "2024-07-14T17:12:30.106Z"
   },
   {
    "duration": 123,
    "start_time": "2024-07-14T17:12:30.165Z"
   },
   {
    "duration": 75,
    "start_time": "2024-07-14T17:12:30.290Z"
   },
   {
    "duration": 13,
    "start_time": "2024-07-14T17:12:34.339Z"
   },
   {
    "duration": 20,
    "start_time": "2024-07-14T17:12:37.448Z"
   },
   {
    "duration": 5,
    "start_time": "2024-07-14T17:12:39.327Z"
   },
   {
    "duration": 5,
    "start_time": "2024-07-14T17:14:27.744Z"
   },
   {
    "duration": 323,
    "start_time": "2024-07-14T17:14:28.325Z"
   },
   {
    "duration": 282,
    "start_time": "2024-07-14T17:14:38.264Z"
   },
   {
    "duration": 239,
    "start_time": "2024-07-14T17:14:42.492Z"
   },
   {
    "duration": 1206,
    "start_time": "2024-07-14T17:15:22.556Z"
   },
   {
    "duration": 69,
    "start_time": "2024-07-14T17:15:23.764Z"
   },
   {
    "duration": 14,
    "start_time": "2024-07-14T17:15:23.835Z"
   },
   {
    "duration": 8,
    "start_time": "2024-07-14T17:15:23.851Z"
   },
   {
    "duration": 7,
    "start_time": "2024-07-14T17:15:23.861Z"
   },
   {
    "duration": 9,
    "start_time": "2024-07-14T17:15:23.870Z"
   },
   {
    "duration": 6,
    "start_time": "2024-07-14T17:15:23.880Z"
   },
   {
    "duration": 14,
    "start_time": "2024-07-14T17:15:23.888Z"
   },
   {
    "duration": 19,
    "start_time": "2024-07-14T17:15:23.938Z"
   },
   {
    "duration": 57,
    "start_time": "2024-07-14T17:15:23.959Z"
   },
   {
    "duration": 18,
    "start_time": "2024-07-14T17:15:24.017Z"
   },
   {
    "duration": 320,
    "start_time": "2024-07-14T17:15:25.357Z"
   },
   {
    "duration": 286,
    "start_time": "2024-07-14T17:15:28.607Z"
   },
   {
    "duration": 397,
    "start_time": "2024-07-14T17:15:32.258Z"
   },
   {
    "duration": 356,
    "start_time": "2024-07-14T17:15:39.455Z"
   },
   {
    "duration": 300,
    "start_time": "2024-07-14T17:16:02.735Z"
   },
   {
    "duration": 381,
    "start_time": "2024-07-14T17:16:10.083Z"
   },
   {
    "duration": 432,
    "start_time": "2024-07-14T17:16:14.441Z"
   },
   {
    "duration": 308,
    "start_time": "2024-07-14T17:16:18.584Z"
   },
   {
    "duration": 8,
    "start_time": "2024-07-14T17:17:48.322Z"
   },
   {
    "duration": 197,
    "start_time": "2024-07-14T17:17:49.164Z"
   },
   {
    "duration": 204,
    "start_time": "2024-07-14T17:17:53.297Z"
   },
   {
    "duration": 252,
    "start_time": "2024-07-14T17:18:39.515Z"
   },
   {
    "duration": 5,
    "start_time": "2024-07-14T17:21:40.232Z"
   },
   {
    "duration": 167,
    "start_time": "2024-07-14T17:21:41.038Z"
   },
   {
    "duration": 153,
    "start_time": "2024-07-14T17:21:47.831Z"
   },
   {
    "duration": 697,
    "start_time": "2024-07-14T17:21:49.688Z"
   },
   {
    "duration": 4,
    "start_time": "2024-07-14T17:21:54.487Z"
   },
   {
    "duration": 850,
    "start_time": "2024-07-14T17:21:55.128Z"
   },
   {
    "duration": 278,
    "start_time": "2024-07-14T17:21:59.350Z"
   },
   {
    "duration": 9,
    "start_time": "2024-07-14T17:24:00.751Z"
   },
   {
    "duration": 7,
    "start_time": "2024-07-14T17:24:16.176Z"
   },
   {
    "duration": 12,
    "start_time": "2024-07-14T17:24:24.364Z"
   },
   {
    "duration": 104,
    "start_time": "2024-07-14T17:26:40.316Z"
   },
   {
    "duration": 18,
    "start_time": "2024-07-14T17:28:27.811Z"
   },
   {
    "duration": 14,
    "start_time": "2024-07-14T17:28:33.916Z"
   },
   {
    "duration": 19,
    "start_time": "2024-07-14T17:29:03.141Z"
   },
   {
    "duration": 64,
    "start_time": "2024-07-14T17:29:14.412Z"
   },
   {
    "duration": 88,
    "start_time": "2024-07-14T17:30:00.971Z"
   },
   {
    "duration": 14,
    "start_time": "2024-07-14T17:30:08.790Z"
   },
   {
    "duration": 16,
    "start_time": "2024-07-14T17:30:15.803Z"
   },
   {
    "duration": 16,
    "start_time": "2024-07-14T17:30:45.175Z"
   },
   {
    "duration": 6,
    "start_time": "2024-07-14T17:31:32.950Z"
   },
   {
    "duration": 12,
    "start_time": "2024-07-14T17:31:37.505Z"
   },
   {
    "duration": 16,
    "start_time": "2024-07-14T17:32:16.829Z"
   },
   {
    "duration": 268,
    "start_time": "2024-07-14T17:32:42.908Z"
   },
   {
    "duration": 133,
    "start_time": "2024-07-14T17:33:10.801Z"
   },
   {
    "duration": 100,
    "start_time": "2024-07-14T17:33:16.375Z"
   },
   {
    "duration": 1075,
    "start_time": "2024-07-14T17:33:24.275Z"
   },
   {
    "duration": 219,
    "start_time": "2024-07-14T17:33:39.253Z"
   },
   {
    "duration": 230,
    "start_time": "2024-07-14T17:34:08.186Z"
   },
   {
    "duration": 205,
    "start_time": "2024-07-14T17:34:49.504Z"
   },
   {
    "duration": 211,
    "start_time": "2024-07-14T17:35:25.636Z"
   },
   {
    "duration": 1078,
    "start_time": "2024-07-14T17:43:45.459Z"
   },
   {
    "duration": 68,
    "start_time": "2024-07-14T17:43:46.539Z"
   },
   {
    "duration": 14,
    "start_time": "2024-07-14T17:43:46.608Z"
   },
   {
    "duration": 2,
    "start_time": "2024-07-14T17:43:46.624Z"
   },
   {
    "duration": 9,
    "start_time": "2024-07-14T17:43:46.628Z"
   },
   {
    "duration": 9,
    "start_time": "2024-07-14T17:43:46.638Z"
   },
   {
    "duration": 4,
    "start_time": "2024-07-14T17:43:46.648Z"
   },
   {
    "duration": 12,
    "start_time": "2024-07-14T17:43:46.654Z"
   },
   {
    "duration": 16,
    "start_time": "2024-07-14T17:43:46.667Z"
   },
   {
    "duration": 5,
    "start_time": "2024-07-14T17:43:46.685Z"
   },
   {
    "duration": 10,
    "start_time": "2024-07-14T17:43:46.691Z"
   },
   {
    "duration": 342,
    "start_time": "2024-07-14T17:43:46.702Z"
   },
   {
    "duration": 280,
    "start_time": "2024-07-14T17:43:47.046Z"
   },
   {
    "duration": 279,
    "start_time": "2024-07-14T17:43:47.328Z"
   },
   {
    "duration": 321,
    "start_time": "2024-07-14T17:43:47.609Z"
   },
   {
    "duration": 9,
    "start_time": "2024-07-14T17:43:47.932Z"
   },
   {
    "duration": 240,
    "start_time": "2024-07-14T17:43:47.943Z"
   },
   {
    "duration": 246,
    "start_time": "2024-07-14T17:43:48.185Z"
   },
   {
    "duration": 6,
    "start_time": "2024-07-14T17:43:48.433Z"
   },
   {
    "duration": 235,
    "start_time": "2024-07-14T17:43:48.440Z"
   },
   {
    "duration": 151,
    "start_time": "2024-07-14T17:43:48.676Z"
   },
   {
    "duration": 685,
    "start_time": "2024-07-14T17:43:48.828Z"
   },
   {
    "duration": 7,
    "start_time": "2024-07-14T17:43:49.514Z"
   },
   {
    "duration": 795,
    "start_time": "2024-07-14T17:43:49.523Z"
   },
   {
    "duration": 20,
    "start_time": "2024-07-14T17:43:50.320Z"
   },
   {
    "duration": 244,
    "start_time": "2024-07-14T17:43:50.342Z"
   },
   {
    "duration": 216,
    "start_time": "2024-07-14T17:43:50.587Z"
   },
   {
    "duration": 4,
    "start_time": "2024-07-14T17:43:50.806Z"
   },
   {
    "duration": 415,
    "start_time": "2024-07-14T17:43:50.812Z"
   },
   {
    "duration": 438,
    "start_time": "2024-07-14T17:43:51.228Z"
   },
   {
    "duration": 9,
    "start_time": "2024-07-14T17:43:51.667Z"
   },
   {
    "duration": 388,
    "start_time": "2024-07-14T17:43:51.677Z"
   },
   {
    "duration": 15,
    "start_time": "2024-07-14T17:43:52.068Z"
   },
   {
    "duration": 70,
    "start_time": "2024-07-14T17:43:52.085Z"
   },
   {
    "duration": 1115,
    "start_time": "2024-07-14T17:49:06.302Z"
   },
   {
    "duration": 70,
    "start_time": "2024-07-14T17:49:07.418Z"
   },
   {
    "duration": 14,
    "start_time": "2024-07-14T17:49:07.490Z"
   },
   {
    "duration": 3,
    "start_time": "2024-07-14T17:49:07.506Z"
   },
   {
    "duration": 19,
    "start_time": "2024-07-14T17:49:07.511Z"
   },
   {
    "duration": 14,
    "start_time": "2024-07-14T17:49:07.532Z"
   },
   {
    "duration": 5,
    "start_time": "2024-07-14T17:49:07.548Z"
   },
   {
    "duration": 17,
    "start_time": "2024-07-14T17:49:07.555Z"
   },
   {
    "duration": 31,
    "start_time": "2024-07-14T17:49:07.574Z"
   },
   {
    "duration": 4,
    "start_time": "2024-07-14T17:49:07.608Z"
   },
   {
    "duration": 11,
    "start_time": "2024-07-14T17:49:07.614Z"
   },
   {
    "duration": 342,
    "start_time": "2024-07-14T17:49:07.627Z"
   },
   {
    "duration": 315,
    "start_time": "2024-07-14T17:49:07.971Z"
   },
   {
    "duration": 255,
    "start_time": "2024-07-14T17:49:08.288Z"
   },
   {
    "duration": 297,
    "start_time": "2024-07-14T17:49:08.544Z"
   },
   {
    "duration": 5,
    "start_time": "2024-07-14T17:49:08.843Z"
   },
   {
    "duration": 195,
    "start_time": "2024-07-14T17:49:08.849Z"
   },
   {
    "duration": 235,
    "start_time": "2024-07-14T17:49:09.046Z"
   },
   {
    "duration": 5,
    "start_time": "2024-07-14T17:49:09.282Z"
   },
   {
    "duration": 259,
    "start_time": "2024-07-14T17:49:09.289Z"
   },
   {
    "duration": 176,
    "start_time": "2024-07-14T17:49:09.550Z"
   },
   {
    "duration": 677,
    "start_time": "2024-07-14T17:49:09.728Z"
   },
   {
    "duration": 4,
    "start_time": "2024-07-14T17:49:10.406Z"
   },
   {
    "duration": 734,
    "start_time": "2024-07-14T17:49:10.411Z"
   },
   {
    "duration": 12,
    "start_time": "2024-07-14T17:49:11.147Z"
   },
   {
    "duration": 246,
    "start_time": "2024-07-14T17:49:11.160Z"
   },
   {
    "duration": 250,
    "start_time": "2024-07-14T17:49:11.407Z"
   },
   {
    "duration": 3,
    "start_time": "2024-07-14T17:49:11.660Z"
   },
   {
    "duration": 494,
    "start_time": "2024-07-14T17:49:11.665Z"
   },
   {
    "duration": 454,
    "start_time": "2024-07-14T17:49:12.161Z"
   },
   {
    "duration": 9,
    "start_time": "2024-07-14T17:49:12.616Z"
   },
   {
    "duration": 396,
    "start_time": "2024-07-14T17:49:12.626Z"
   },
   {
    "duration": 18,
    "start_time": "2024-07-14T17:49:13.023Z"
   },
   {
    "duration": 9,
    "start_time": "2024-07-14T17:49:13.042Z"
   },
   {
    "duration": 1101,
    "start_time": "2024-07-14T17:49:23.434Z"
   },
   {
    "duration": 67,
    "start_time": "2024-07-14T17:49:24.537Z"
   },
   {
    "duration": 14,
    "start_time": "2024-07-14T17:49:24.605Z"
   },
   {
    "duration": 29,
    "start_time": "2024-07-14T17:49:24.621Z"
   },
   {
    "duration": 12,
    "start_time": "2024-07-14T17:49:24.651Z"
   },
   {
    "duration": 8,
    "start_time": "2024-07-14T17:49:24.664Z"
   },
   {
    "duration": 6,
    "start_time": "2024-07-14T17:49:24.673Z"
   },
   {
    "duration": 12,
    "start_time": "2024-07-14T17:49:24.681Z"
   },
   {
    "duration": 17,
    "start_time": "2024-07-14T17:49:24.695Z"
   },
   {
    "duration": 5,
    "start_time": "2024-07-14T17:49:24.715Z"
   },
   {
    "duration": 3,
    "start_time": "2024-07-14T17:49:24.737Z"
   },
   {
    "duration": 340,
    "start_time": "2024-07-14T17:49:24.742Z"
   },
   {
    "duration": 286,
    "start_time": "2024-07-14T17:49:25.083Z"
   },
   {
    "duration": 261,
    "start_time": "2024-07-14T17:49:25.370Z"
   },
   {
    "duration": 319,
    "start_time": "2024-07-14T17:49:25.632Z"
   },
   {
    "duration": 6,
    "start_time": "2024-07-14T17:49:25.952Z"
   },
   {
    "duration": 202,
    "start_time": "2024-07-14T17:49:25.960Z"
   },
   {
    "duration": 255,
    "start_time": "2024-07-14T17:49:26.164Z"
   },
   {
    "duration": 6,
    "start_time": "2024-07-14T17:49:26.420Z"
   },
   {
    "duration": 238,
    "start_time": "2024-07-14T17:49:26.428Z"
   },
   {
    "duration": 157,
    "start_time": "2024-07-14T17:49:26.668Z"
   },
   {
    "duration": 686,
    "start_time": "2024-07-14T17:49:26.827Z"
   },
   {
    "duration": 4,
    "start_time": "2024-07-14T17:49:27.515Z"
   },
   {
    "duration": 844,
    "start_time": "2024-07-14T17:49:27.521Z"
   },
   {
    "duration": 12,
    "start_time": "2024-07-14T17:49:28.367Z"
   },
   {
    "duration": 250,
    "start_time": "2024-07-14T17:49:28.381Z"
   },
   {
    "duration": 229,
    "start_time": "2024-07-14T17:49:28.633Z"
   },
   {
    "duration": 4,
    "start_time": "2024-07-14T17:49:28.865Z"
   },
   {
    "duration": 397,
    "start_time": "2024-07-14T17:49:28.871Z"
   },
   {
    "duration": 489,
    "start_time": "2024-07-14T17:49:29.269Z"
   },
   {
    "duration": 10,
    "start_time": "2024-07-14T17:49:29.761Z"
   },
   {
    "duration": 403,
    "start_time": "2024-07-14T17:49:29.773Z"
   },
   {
    "duration": 10,
    "start_time": "2024-07-14T17:49:30.178Z"
   },
   {
    "duration": 86,
    "start_time": "2024-07-14T17:49:30.189Z"
   },
   {
    "duration": 1139,
    "start_time": "2024-08-07T13:56:21.380Z"
   },
   {
    "duration": 240,
    "start_time": "2024-08-07T13:56:22.521Z"
   },
   {
    "duration": 14,
    "start_time": "2024-08-07T13:56:22.763Z"
   },
   {
    "duration": 3,
    "start_time": "2024-08-07T13:56:22.778Z"
   },
   {
    "duration": 20,
    "start_time": "2024-08-07T13:56:22.783Z"
   },
   {
    "duration": 9,
    "start_time": "2024-08-07T13:56:22.805Z"
   },
   {
    "duration": 18,
    "start_time": "2024-08-07T13:56:22.815Z"
   },
   {
    "duration": 33,
    "start_time": "2024-08-07T13:56:22.835Z"
   },
   {
    "duration": 19,
    "start_time": "2024-08-07T13:56:22.869Z"
   },
   {
    "duration": 5,
    "start_time": "2024-08-07T13:56:22.889Z"
   },
   {
    "duration": 5,
    "start_time": "2024-08-07T13:56:22.895Z"
   },
   {
    "duration": 315,
    "start_time": "2024-08-07T13:56:22.901Z"
   },
   {
    "duration": 285,
    "start_time": "2024-08-07T13:56:23.218Z"
   },
   {
    "duration": 278,
    "start_time": "2024-08-07T13:56:23.506Z"
   },
   {
    "duration": 326,
    "start_time": "2024-08-07T13:56:23.786Z"
   },
   {
    "duration": 6,
    "start_time": "2024-08-07T13:56:24.113Z"
   },
   {
    "duration": 205,
    "start_time": "2024-08-07T13:56:24.120Z"
   },
   {
    "duration": 250,
    "start_time": "2024-08-07T13:56:24.327Z"
   },
   {
    "duration": 6,
    "start_time": "2024-08-07T13:56:24.578Z"
   },
   {
    "duration": 223,
    "start_time": "2024-08-07T13:56:24.596Z"
   },
   {
    "duration": 158,
    "start_time": "2024-08-07T13:56:24.820Z"
   },
   {
    "duration": 737,
    "start_time": "2024-08-07T13:56:24.979Z"
   },
   {
    "duration": 5,
    "start_time": "2024-08-07T13:56:25.718Z"
   },
   {
    "duration": 773,
    "start_time": "2024-08-07T13:56:25.725Z"
   },
   {
    "duration": 14,
    "start_time": "2024-08-07T13:56:26.500Z"
   },
   {
    "duration": 251,
    "start_time": "2024-08-07T13:56:26.516Z"
   },
   {
    "duration": 228,
    "start_time": "2024-08-07T13:56:26.768Z"
   },
   {
    "duration": 4,
    "start_time": "2024-08-07T13:56:26.997Z"
   },
   {
    "duration": 405,
    "start_time": "2024-08-07T13:56:27.003Z"
   },
   {
    "duration": 481,
    "start_time": "2024-08-07T13:56:27.409Z"
   },
   {
    "duration": 13,
    "start_time": "2024-08-07T13:56:27.891Z"
   },
   {
    "duration": 446,
    "start_time": "2024-08-07T13:56:27.906Z"
   },
   {
    "duration": 11,
    "start_time": "2024-08-07T13:56:28.354Z"
   },
   {
    "duration": 61,
    "start_time": "2024-08-07T13:56:28.367Z"
   }
  ],
  "kernelspec": {
   "display_name": "Python 3 (ipykernel)",
   "language": "python",
   "name": "python3"
  },
  "language_info": {
   "codemirror_mode": {
    "name": "ipython",
    "version": 3
   },
   "file_extension": ".py",
   "mimetype": "text/x-python",
   "name": "python",
   "nbconvert_exporter": "python",
   "pygments_lexer": "ipython3",
   "version": "3.9.5"
  },
  "toc": {
   "base_numbering": 1,
   "nav_menu": {},
   "number_sections": true,
   "sideBar": true,
   "skip_h1_title": true,
   "title_cell": "Table of Contents",
   "title_sidebar": "Contents",
   "toc_cell": false,
   "toc_position": {},
   "toc_section_display": true,
   "toc_window_display": false
  }
 },
 "nbformat": 4,
 "nbformat_minor": 2
}
